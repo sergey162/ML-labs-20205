{
  "cells": [
    {
      "cell_type": "markdown",
      "metadata": {
        "id": "u-M8jTjKiYBo"
      },
      "source": [
        "# Лабораторная работа №1. Регрессия\n",
        "\n",
        "**Тема:** *Сравнение линейной регрессии, случайного леса (Random Forest Regressor), градиентного бустинга (XGBoost) на задаче регрессии.*\n",
        "\n",
        "**Цели:**\n",
        "\n",
        "- *Научиться строить, оптимизировать и оценивать регрессионные модели.*\n",
        "- *Понять, как интерпретировать важность признаков (feature importance).*\n",
        "- *Понять, как увеличивать кол-во признаков (feature tuning).*\n",
        "- *Исследовать влияние преобразований признаков (фичей), регуляризации и гиперпараметров.*\n",
        "\n",
        "**Условия:**\n",
        "\n",
        "- *numpy, pandas, scikit-learn, XGBoost*\n",
        "- *выбрать датасет для 1-ой и 2-ой лабораторной работы*\n",
        "\n",
        "**Пункты:**\n",
        "\n",
        "1. Подготовка данных + Feature Tuning\n",
        "2. Создание метрик\n",
        "3. Базовая модель линейной регрессии\n",
        "4. Улучшение линейной регрессии\n",
        "5. Случайный лес регрессор\n",
        "6. Градиентный бустинг (XGBoost)\n",
        "7. Feature Importance\n",
        "8. Написание своих реализаций (классы)\n",
        "9. Подведение итогов\n"
      ]
    },
    {
      "cell_type": "markdown",
      "metadata": {
        "id": "ah66Ra94kcXI"
      },
      "source": [
        "## О командe\n",
        "\n",
        "| Фамилия И.О.        | Группа | Роль в команде | Что делал                    |\n",
        "|---------------------|--------|----------------|------------------------------|\n",
        "| Усов С.Е.         | 307    | Solo way       | Все сам                      |\n",
        "\n",
        " Датасет: [abalone](https://code.datasciencedojo.com/zhangyuan/datasets/tree/master/Abalone)"
      ]
    },
    {
      "cell_type": "markdown",
      "metadata": {
        "id": "fDbayIFnmbDQ"
      },
      "source": [
        "## Описание датасета\n",
        "\n",
        "Этот набор данных содержит физические измерения морских улиток — абалонов — и используется для предсказания их возраста. Возраст определяется по количеству колец на раковине, что требует разрезания, окрашивания и подсчёта под микроскопом — трудоёмкая и скучная процедура. Цель задачи — научиться предсказывать возраст (количество колец) по более легко измеримым физическим характеристикам, таким как размеры и веса.\n",
        "\n",
        "Данные отлично подходят для практики в разведочном анализе (EDA), визуализации, а также в построении моделей классификации и регрессии. Несмотря на кажущуюся простоту, задача может оказаться нетривиальной из-за нелинейных зависимостей, асимметричного распределения возраста и категориального признака пола.\n",
        "\n",
        "---\n",
        "\n",
        "### Таблица признаков датасета \"Abalone\"\n",
        "\n",
        "| № | Признак | Тип данных | Описание |\n",
        "|---|---|---|---|\n",
        "| 1 | **Sex** | categorical | Пол абалона (M: самец, F: самка, I: детеныш) |\n",
        "| 2 | **Length** | float | Длина раковины (наибольшее измерение в мм) |\n",
        "| 3 | **Diameter** | float | Диаметр раковины (перпендикулярно длине в мм) |\n",
        "| 4 | **Height** | float | Высота раковины (с мясом внутри в мм) |\n",
        "| 5 | **Whole weight** | float | Общий вес абалона (в граммах) |\n",
        "| 6 | **Shucked weight** | float | Вес мяса без раковины (в граммах) |\n",
        "| 7 | **Viscera weight** | float | Вес внутренностей после очистки (в граммах) |\n",
        "| 8 | **Shell weight** | float | Вес высушенной раковины (в граммах) |\n",
        "| 9 | **Rings** (target) | integer | Количество колец на раковине (возраст = кольца + 1.5 года) |\n"
      ]
    },
    {
      "cell_type": "markdown",
      "metadata": {
        "id": "owyNH9NF-g9J"
      },
      "source": [
        "## 0. Глобальная настройка проекта\n"
      ]
    },
    {
      "cell_type": "code",
      "execution_count": 37,
      "metadata": {
        "id": "qaQorah1-lBy"
      },
      "outputs": [],
      "source": [
        "RND_SEED = 21\n",
        "USE_AUTO_POLY = True"
      ]
    },
    {
      "cell_type": "markdown",
      "metadata": {
        "id": "WMbcyFTXnqmH"
      },
      "source": [
        "## 1. Подготовка данных + Feature Tuning"
      ]
    },
    {
      "cell_type": "markdown",
      "metadata": {
        "id": "0fSSuTDjnuXu"
      },
      "source": [
        "### 1.1. Загрузка датасета"
      ]
    },
    {
      "cell_type": "markdown",
      "metadata": {
        "id": "-iEXdpJjn1uo"
      },
      "source": [
        "Подключим библиотеки, для предобработки данных"
      ]
    },
    {
      "cell_type": "code",
      "execution_count": 38,
      "metadata": {
        "id": "oKBmKQsHo3cq"
      },
      "outputs": [],
      "source": [
        "import pandas as pd\n",
        "import numpy as np\n"
      ]
    },
    {
      "cell_type": "markdown",
      "metadata": {
        "id": "uJC5TWYAo-i6"
      },
      "source": [
        "Загрузка датасета `pd.read_csv(path_to_dataset: str)`"
      ]
    },
    {
      "cell_type": "code",
      "execution_count": 39,
      "metadata": {
        "id": "miSqROM7iNdP"
      },
      "outputs": [],
      "source": [
        "column_names = ['Sex', 'Length', 'Diameter', 'Height', 'Whole weight',\n",
        "                'Shucked weight', 'Viscera weight', 'Shell weight', 'Rings']\n",
        "\n",
        "file_path = '/home/abalone_data.csv'\n",
        "\n",
        "df = pd.read_csv(file_path, names=column_names, header=None)"
      ]
    },
    {
      "cell_type": "markdown",
      "metadata": {
        "id": "7YuWJYTWp1Ig"
      },
      "source": [
        "Посмотрим первые три строки датасета `df.head(n: int)`"
      ]
    },
    {
      "cell_type": "code",
      "execution_count": 40,
      "metadata": {
        "colab": {
          "base_uri": "https://localhost:8080/",
          "height": 143
        },
        "id": "heDdlkyHpi00",
        "outputId": "0d205767-011e-4a92-8bff-36f96e8055b1"
      },
      "outputs": [
        {
          "output_type": "execute_result",
          "data": {
            "text/plain": [
              "  Sex  Length  Diameter  Height  Whole weight  Shucked weight  Viscera weight  \\\n",
              "0   M   0.455     0.365   0.095        0.5140          0.2245          0.1010   \n",
              "1   M   0.350     0.265   0.090        0.2255          0.0995          0.0485   \n",
              "2   F   0.530     0.420   0.135        0.6770          0.2565          0.1415   \n",
              "\n",
              "   Shell weight  Rings  \n",
              "0          0.15     15  \n",
              "1          0.07      7  \n",
              "2          0.21      9  "
            ],
            "text/html": [
              "\n",
              "  <div id=\"df-4a86e1d6-3693-492b-affb-a5d1dad27010\" class=\"colab-df-container\">\n",
              "    <div>\n",
              "<style scoped>\n",
              "    .dataframe tbody tr th:only-of-type {\n",
              "        vertical-align: middle;\n",
              "    }\n",
              "\n",
              "    .dataframe tbody tr th {\n",
              "        vertical-align: top;\n",
              "    }\n",
              "\n",
              "    .dataframe thead th {\n",
              "        text-align: right;\n",
              "    }\n",
              "</style>\n",
              "<table border=\"1\" class=\"dataframe\">\n",
              "  <thead>\n",
              "    <tr style=\"text-align: right;\">\n",
              "      <th></th>\n",
              "      <th>Sex</th>\n",
              "      <th>Length</th>\n",
              "      <th>Diameter</th>\n",
              "      <th>Height</th>\n",
              "      <th>Whole weight</th>\n",
              "      <th>Shucked weight</th>\n",
              "      <th>Viscera weight</th>\n",
              "      <th>Shell weight</th>\n",
              "      <th>Rings</th>\n",
              "    </tr>\n",
              "  </thead>\n",
              "  <tbody>\n",
              "    <tr>\n",
              "      <th>0</th>\n",
              "      <td>M</td>\n",
              "      <td>0.455</td>\n",
              "      <td>0.365</td>\n",
              "      <td>0.095</td>\n",
              "      <td>0.5140</td>\n",
              "      <td>0.2245</td>\n",
              "      <td>0.1010</td>\n",
              "      <td>0.15</td>\n",
              "      <td>15</td>\n",
              "    </tr>\n",
              "    <tr>\n",
              "      <th>1</th>\n",
              "      <td>M</td>\n",
              "      <td>0.350</td>\n",
              "      <td>0.265</td>\n",
              "      <td>0.090</td>\n",
              "      <td>0.2255</td>\n",
              "      <td>0.0995</td>\n",
              "      <td>0.0485</td>\n",
              "      <td>0.07</td>\n",
              "      <td>7</td>\n",
              "    </tr>\n",
              "    <tr>\n",
              "      <th>2</th>\n",
              "      <td>F</td>\n",
              "      <td>0.530</td>\n",
              "      <td>0.420</td>\n",
              "      <td>0.135</td>\n",
              "      <td>0.6770</td>\n",
              "      <td>0.2565</td>\n",
              "      <td>0.1415</td>\n",
              "      <td>0.21</td>\n",
              "      <td>9</td>\n",
              "    </tr>\n",
              "  </tbody>\n",
              "</table>\n",
              "</div>\n",
              "    <div class=\"colab-df-buttons\">\n",
              "\n",
              "  <div class=\"colab-df-container\">\n",
              "    <button class=\"colab-df-convert\" onclick=\"convertToInteractive('df-4a86e1d6-3693-492b-affb-a5d1dad27010')\"\n",
              "            title=\"Convert this dataframe to an interactive table.\"\n",
              "            style=\"display:none;\">\n",
              "\n",
              "  <svg xmlns=\"http://www.w3.org/2000/svg\" height=\"24px\" viewBox=\"0 -960 960 960\">\n",
              "    <path d=\"M120-120v-720h720v720H120Zm60-500h600v-160H180v160Zm220 220h160v-160H400v160Zm0 220h160v-160H400v160ZM180-400h160v-160H180v160Zm440 0h160v-160H620v160ZM180-180h160v-160H180v160Zm440 0h160v-160H620v160Z\"/>\n",
              "  </svg>\n",
              "    </button>\n",
              "\n",
              "  <style>\n",
              "    .colab-df-container {\n",
              "      display:flex;\n",
              "      gap: 12px;\n",
              "    }\n",
              "\n",
              "    .colab-df-convert {\n",
              "      background-color: #E8F0FE;\n",
              "      border: none;\n",
              "      border-radius: 50%;\n",
              "      cursor: pointer;\n",
              "      display: none;\n",
              "      fill: #1967D2;\n",
              "      height: 32px;\n",
              "      padding: 0 0 0 0;\n",
              "      width: 32px;\n",
              "    }\n",
              "\n",
              "    .colab-df-convert:hover {\n",
              "      background-color: #E2EBFA;\n",
              "      box-shadow: 0px 1px 2px rgba(60, 64, 67, 0.3), 0px 1px 3px 1px rgba(60, 64, 67, 0.15);\n",
              "      fill: #174EA6;\n",
              "    }\n",
              "\n",
              "    .colab-df-buttons div {\n",
              "      margin-bottom: 4px;\n",
              "    }\n",
              "\n",
              "    [theme=dark] .colab-df-convert {\n",
              "      background-color: #3B4455;\n",
              "      fill: #D2E3FC;\n",
              "    }\n",
              "\n",
              "    [theme=dark] .colab-df-convert:hover {\n",
              "      background-color: #434B5C;\n",
              "      box-shadow: 0px 1px 3px 1px rgba(0, 0, 0, 0.15);\n",
              "      filter: drop-shadow(0px 1px 2px rgba(0, 0, 0, 0.3));\n",
              "      fill: #FFFFFF;\n",
              "    }\n",
              "  </style>\n",
              "\n",
              "    <script>\n",
              "      const buttonEl =\n",
              "        document.querySelector('#df-4a86e1d6-3693-492b-affb-a5d1dad27010 button.colab-df-convert');\n",
              "      buttonEl.style.display =\n",
              "        google.colab.kernel.accessAllowed ? 'block' : 'none';\n",
              "\n",
              "      async function convertToInteractive(key) {\n",
              "        const element = document.querySelector('#df-4a86e1d6-3693-492b-affb-a5d1dad27010');\n",
              "        const dataTable =\n",
              "          await google.colab.kernel.invokeFunction('convertToInteractive',\n",
              "                                                    [key], {});\n",
              "        if (!dataTable) return;\n",
              "\n",
              "        const docLinkHtml = 'Like what you see? Visit the ' +\n",
              "          '<a target=\"_blank\" href=https://colab.research.google.com/notebooks/data_table.ipynb>data table notebook</a>'\n",
              "          + ' to learn more about interactive tables.';\n",
              "        element.innerHTML = '';\n",
              "        dataTable['output_type'] = 'display_data';\n",
              "        await google.colab.output.renderOutput(dataTable, element);\n",
              "        const docLink = document.createElement('div');\n",
              "        docLink.innerHTML = docLinkHtml;\n",
              "        element.appendChild(docLink);\n",
              "      }\n",
              "    </script>\n",
              "  </div>\n",
              "\n",
              "\n",
              "    <div id=\"df-b89d9e4e-6c0e-4b21-a2d7-a993d6f80db3\">\n",
              "      <button class=\"colab-df-quickchart\" onclick=\"quickchart('df-b89d9e4e-6c0e-4b21-a2d7-a993d6f80db3')\"\n",
              "                title=\"Suggest charts\"\n",
              "                style=\"display:none;\">\n",
              "\n",
              "<svg xmlns=\"http://www.w3.org/2000/svg\" height=\"24px\"viewBox=\"0 0 24 24\"\n",
              "     width=\"24px\">\n",
              "    <g>\n",
              "        <path d=\"M19 3H5c-1.1 0-2 .9-2 2v14c0 1.1.9 2 2 2h14c1.1 0 2-.9 2-2V5c0-1.1-.9-2-2-2zM9 17H7v-7h2v7zm4 0h-2V7h2v10zm4 0h-2v-4h2v4z\"/>\n",
              "    </g>\n",
              "</svg>\n",
              "      </button>\n",
              "\n",
              "<style>\n",
              "  .colab-df-quickchart {\n",
              "      --bg-color: #E8F0FE;\n",
              "      --fill-color: #1967D2;\n",
              "      --hover-bg-color: #E2EBFA;\n",
              "      --hover-fill-color: #174EA6;\n",
              "      --disabled-fill-color: #AAA;\n",
              "      --disabled-bg-color: #DDD;\n",
              "  }\n",
              "\n",
              "  [theme=dark] .colab-df-quickchart {\n",
              "      --bg-color: #3B4455;\n",
              "      --fill-color: #D2E3FC;\n",
              "      --hover-bg-color: #434B5C;\n",
              "      --hover-fill-color: #FFFFFF;\n",
              "      --disabled-bg-color: #3B4455;\n",
              "      --disabled-fill-color: #666;\n",
              "  }\n",
              "\n",
              "  .colab-df-quickchart {\n",
              "    background-color: var(--bg-color);\n",
              "    border: none;\n",
              "    border-radius: 50%;\n",
              "    cursor: pointer;\n",
              "    display: none;\n",
              "    fill: var(--fill-color);\n",
              "    height: 32px;\n",
              "    padding: 0;\n",
              "    width: 32px;\n",
              "  }\n",
              "\n",
              "  .colab-df-quickchart:hover {\n",
              "    background-color: var(--hover-bg-color);\n",
              "    box-shadow: 0 1px 2px rgba(60, 64, 67, 0.3), 0 1px 3px 1px rgba(60, 64, 67, 0.15);\n",
              "    fill: var(--button-hover-fill-color);\n",
              "  }\n",
              "\n",
              "  .colab-df-quickchart-complete:disabled,\n",
              "  .colab-df-quickchart-complete:disabled:hover {\n",
              "    background-color: var(--disabled-bg-color);\n",
              "    fill: var(--disabled-fill-color);\n",
              "    box-shadow: none;\n",
              "  }\n",
              "\n",
              "  .colab-df-spinner {\n",
              "    border: 2px solid var(--fill-color);\n",
              "    border-color: transparent;\n",
              "    border-bottom-color: var(--fill-color);\n",
              "    animation:\n",
              "      spin 1s steps(1) infinite;\n",
              "  }\n",
              "\n",
              "  @keyframes spin {\n",
              "    0% {\n",
              "      border-color: transparent;\n",
              "      border-bottom-color: var(--fill-color);\n",
              "      border-left-color: var(--fill-color);\n",
              "    }\n",
              "    20% {\n",
              "      border-color: transparent;\n",
              "      border-left-color: var(--fill-color);\n",
              "      border-top-color: var(--fill-color);\n",
              "    }\n",
              "    30% {\n",
              "      border-color: transparent;\n",
              "      border-left-color: var(--fill-color);\n",
              "      border-top-color: var(--fill-color);\n",
              "      border-right-color: var(--fill-color);\n",
              "    }\n",
              "    40% {\n",
              "      border-color: transparent;\n",
              "      border-right-color: var(--fill-color);\n",
              "      border-top-color: var(--fill-color);\n",
              "    }\n",
              "    60% {\n",
              "      border-color: transparent;\n",
              "      border-right-color: var(--fill-color);\n",
              "    }\n",
              "    80% {\n",
              "      border-color: transparent;\n",
              "      border-right-color: var(--fill-color);\n",
              "      border-bottom-color: var(--fill-color);\n",
              "    }\n",
              "    90% {\n",
              "      border-color: transparent;\n",
              "      border-bottom-color: var(--fill-color);\n",
              "    }\n",
              "  }\n",
              "</style>\n",
              "\n",
              "      <script>\n",
              "        async function quickchart(key) {\n",
              "          const quickchartButtonEl =\n",
              "            document.querySelector('#' + key + ' button');\n",
              "          quickchartButtonEl.disabled = true;  // To prevent multiple clicks.\n",
              "          quickchartButtonEl.classList.add('colab-df-spinner');\n",
              "          try {\n",
              "            const charts = await google.colab.kernel.invokeFunction(\n",
              "                'suggestCharts', [key], {});\n",
              "          } catch (error) {\n",
              "            console.error('Error during call to suggestCharts:', error);\n",
              "          }\n",
              "          quickchartButtonEl.classList.remove('colab-df-spinner');\n",
              "          quickchartButtonEl.classList.add('colab-df-quickchart-complete');\n",
              "        }\n",
              "        (() => {\n",
              "          let quickchartButtonEl =\n",
              "            document.querySelector('#df-b89d9e4e-6c0e-4b21-a2d7-a993d6f80db3 button');\n",
              "          quickchartButtonEl.style.display =\n",
              "            google.colab.kernel.accessAllowed ? 'block' : 'none';\n",
              "        })();\n",
              "      </script>\n",
              "    </div>\n",
              "    </div>\n",
              "  </div>\n"
            ],
            "application/vnd.google.colaboratory.intrinsic+json": {
              "type": "dataframe",
              "variable_name": "df",
              "summary": "{\n  \"name\": \"df\",\n  \"rows\": 4177,\n  \"fields\": [\n    {\n      \"column\": \"Sex\",\n      \"properties\": {\n        \"dtype\": \"category\",\n        \"num_unique_values\": 3,\n        \"samples\": [\n          \"M\",\n          \"F\",\n          \"I\"\n        ],\n        \"semantic_type\": \"\",\n        \"description\": \"\"\n      }\n    },\n    {\n      \"column\": \"Length\",\n      \"properties\": {\n        \"dtype\": \"number\",\n        \"std\": 0.12009291256479998,\n        \"min\": 0.075,\n        \"max\": 0.815,\n        \"num_unique_values\": 134,\n        \"samples\": [\n          0.815,\n          0.65,\n          0.29\n        ],\n        \"semantic_type\": \"\",\n        \"description\": \"\"\n      }\n    },\n    {\n      \"column\": \"Diameter\",\n      \"properties\": {\n        \"dtype\": \"number\",\n        \"std\": 0.09923986613365918,\n        \"min\": 0.055,\n        \"max\": 0.65,\n        \"num_unique_values\": 111,\n        \"samples\": [\n          0.09,\n          0.35,\n          0.3\n        ],\n        \"semantic_type\": \"\",\n        \"description\": \"\"\n      }\n    },\n    {\n      \"column\": \"Height\",\n      \"properties\": {\n        \"dtype\": \"number\",\n        \"std\": 0.04182705660725703,\n        \"min\": 0.0,\n        \"max\": 1.13,\n        \"num_unique_values\": 51,\n        \"samples\": [\n          0.235,\n          0.035,\n          0.015\n        ],\n        \"semantic_type\": \"\",\n        \"description\": \"\"\n      }\n    },\n    {\n      \"column\": \"Whole weight\",\n      \"properties\": {\n        \"dtype\": \"number\",\n        \"std\": 0.49038901823099723,\n        \"min\": 0.002,\n        \"max\": 2.8255,\n        \"num_unique_values\": 2429,\n        \"samples\": [\n          1.2825,\n          1.09,\n          0.131\n        ],\n        \"semantic_type\": \"\",\n        \"description\": \"\"\n      }\n    },\n    {\n      \"column\": \"Shucked weight\",\n      \"properties\": {\n        \"dtype\": \"number\",\n        \"std\": 0.22196294903322014,\n        \"min\": 0.001,\n        \"max\": 1.488,\n        \"num_unique_values\": 1515,\n        \"samples\": [\n          0.2105,\n          0.0645,\n          0.476\n        ],\n        \"semantic_type\": \"\",\n        \"description\": \"\"\n      }\n    },\n    {\n      \"column\": \"Viscera weight\",\n      \"properties\": {\n        \"dtype\": \"number\",\n        \"std\": 0.10961425025968442,\n        \"min\": 0.0005,\n        \"max\": 0.76,\n        \"num_unique_values\": 880,\n        \"samples\": [\n          0.0645,\n          0.0095,\n          0.1115\n        ],\n        \"semantic_type\": \"\",\n        \"description\": \"\"\n      }\n    },\n    {\n      \"column\": \"Shell weight\",\n      \"properties\": {\n        \"dtype\": \"number\",\n        \"std\": 0.13920266952238575,\n        \"min\": 0.0015,\n        \"max\": 1.005,\n        \"num_unique_values\": 926,\n        \"samples\": [\n          0.3745,\n          0.2825,\n          0.49\n        ],\n        \"semantic_type\": \"\",\n        \"description\": \"\"\n      }\n    },\n    {\n      \"column\": \"Rings\",\n      \"properties\": {\n        \"dtype\": \"number\",\n        \"std\": 3,\n        \"min\": 1,\n        \"max\": 29,\n        \"num_unique_values\": 28,\n        \"samples\": [\n          11,\n          27,\n          14\n        ],\n        \"semantic_type\": \"\",\n        \"description\": \"\"\n      }\n    }\n  ]\n}"
            }
          },
          "metadata": {},
          "execution_count": 40
        }
      ],
      "source": [
        "df.head(3)"
      ]
    },
    {
      "cell_type": "markdown",
      "metadata": {
        "id": "APmlq1NSzp4d"
      },
      "source": [
        "Атрибут sex (пол): Этот признак имеет текстовые категориальные значения (M, F, I). Большинство алгоритмов машинного обучения работают только с числами, поэтому этот столбец нельзя использовать в исходном виде `Sex`. Преобразовать в числовой формат методом one-hot encoding (создание отдельных столбцов для каждой категории)."
      ]
    },
    {
      "cell_type": "code",
      "execution_count": 41,
      "metadata": {
        "id": "wIfrJQg4zzSw"
      },
      "outputs": [],
      "source": [
        "# One-hot encoding для признака Sex\n",
        "sex_encoded = pd.get_dummies(df['Sex'], prefix='Sex', dtype=int)\n",
        "df_encoded = pd.concat([df.drop('Sex', axis=1), sex_encoded], axis=1)"
      ]
    },
    {
      "cell_type": "code",
      "execution_count": 42,
      "metadata": {
        "colab": {
          "base_uri": "https://localhost:8080/",
          "height": 161
        },
        "id": "X3SfTnlM0C_L",
        "outputId": "dd064f3f-1417-4d7b-b2d7-2b96a761cdc5"
      },
      "outputs": [
        {
          "output_type": "stream",
          "name": "stdout",
          "text": [
            "Данные после one-hot encoding:\n"
          ]
        },
        {
          "output_type": "execute_result",
          "data": {
            "text/plain": [
              "   Length  Diameter  Height  Whole weight  Shucked weight  Viscera weight  \\\n",
              "0   0.455     0.365   0.095        0.5140          0.2245          0.1010   \n",
              "1   0.350     0.265   0.090        0.2255          0.0995          0.0485   \n",
              "2   0.530     0.420   0.135        0.6770          0.2565          0.1415   \n",
              "\n",
              "   Shell weight  Rings  Sex_F  Sex_I  Sex_M  \n",
              "0          0.15     15      0      0      1  \n",
              "1          0.07      7      0      0      1  \n",
              "2          0.21      9      1      0      0  "
            ],
            "text/html": [
              "\n",
              "  <div id=\"df-753102c6-9dd6-41d5-9243-2bb86319430c\" class=\"colab-df-container\">\n",
              "    <div>\n",
              "<style scoped>\n",
              "    .dataframe tbody tr th:only-of-type {\n",
              "        vertical-align: middle;\n",
              "    }\n",
              "\n",
              "    .dataframe tbody tr th {\n",
              "        vertical-align: top;\n",
              "    }\n",
              "\n",
              "    .dataframe thead th {\n",
              "        text-align: right;\n",
              "    }\n",
              "</style>\n",
              "<table border=\"1\" class=\"dataframe\">\n",
              "  <thead>\n",
              "    <tr style=\"text-align: right;\">\n",
              "      <th></th>\n",
              "      <th>Length</th>\n",
              "      <th>Diameter</th>\n",
              "      <th>Height</th>\n",
              "      <th>Whole weight</th>\n",
              "      <th>Shucked weight</th>\n",
              "      <th>Viscera weight</th>\n",
              "      <th>Shell weight</th>\n",
              "      <th>Rings</th>\n",
              "      <th>Sex_F</th>\n",
              "      <th>Sex_I</th>\n",
              "      <th>Sex_M</th>\n",
              "    </tr>\n",
              "  </thead>\n",
              "  <tbody>\n",
              "    <tr>\n",
              "      <th>0</th>\n",
              "      <td>0.455</td>\n",
              "      <td>0.365</td>\n",
              "      <td>0.095</td>\n",
              "      <td>0.5140</td>\n",
              "      <td>0.2245</td>\n",
              "      <td>0.1010</td>\n",
              "      <td>0.15</td>\n",
              "      <td>15</td>\n",
              "      <td>0</td>\n",
              "      <td>0</td>\n",
              "      <td>1</td>\n",
              "    </tr>\n",
              "    <tr>\n",
              "      <th>1</th>\n",
              "      <td>0.350</td>\n",
              "      <td>0.265</td>\n",
              "      <td>0.090</td>\n",
              "      <td>0.2255</td>\n",
              "      <td>0.0995</td>\n",
              "      <td>0.0485</td>\n",
              "      <td>0.07</td>\n",
              "      <td>7</td>\n",
              "      <td>0</td>\n",
              "      <td>0</td>\n",
              "      <td>1</td>\n",
              "    </tr>\n",
              "    <tr>\n",
              "      <th>2</th>\n",
              "      <td>0.530</td>\n",
              "      <td>0.420</td>\n",
              "      <td>0.135</td>\n",
              "      <td>0.6770</td>\n",
              "      <td>0.2565</td>\n",
              "      <td>0.1415</td>\n",
              "      <td>0.21</td>\n",
              "      <td>9</td>\n",
              "      <td>1</td>\n",
              "      <td>0</td>\n",
              "      <td>0</td>\n",
              "    </tr>\n",
              "  </tbody>\n",
              "</table>\n",
              "</div>\n",
              "    <div class=\"colab-df-buttons\">\n",
              "\n",
              "  <div class=\"colab-df-container\">\n",
              "    <button class=\"colab-df-convert\" onclick=\"convertToInteractive('df-753102c6-9dd6-41d5-9243-2bb86319430c')\"\n",
              "            title=\"Convert this dataframe to an interactive table.\"\n",
              "            style=\"display:none;\">\n",
              "\n",
              "  <svg xmlns=\"http://www.w3.org/2000/svg\" height=\"24px\" viewBox=\"0 -960 960 960\">\n",
              "    <path d=\"M120-120v-720h720v720H120Zm60-500h600v-160H180v160Zm220 220h160v-160H400v160Zm0 220h160v-160H400v160ZM180-400h160v-160H180v160Zm440 0h160v-160H620v160ZM180-180h160v-160H180v160Zm440 0h160v-160H620v160Z\"/>\n",
              "  </svg>\n",
              "    </button>\n",
              "\n",
              "  <style>\n",
              "    .colab-df-container {\n",
              "      display:flex;\n",
              "      gap: 12px;\n",
              "    }\n",
              "\n",
              "    .colab-df-convert {\n",
              "      background-color: #E8F0FE;\n",
              "      border: none;\n",
              "      border-radius: 50%;\n",
              "      cursor: pointer;\n",
              "      display: none;\n",
              "      fill: #1967D2;\n",
              "      height: 32px;\n",
              "      padding: 0 0 0 0;\n",
              "      width: 32px;\n",
              "    }\n",
              "\n",
              "    .colab-df-convert:hover {\n",
              "      background-color: #E2EBFA;\n",
              "      box-shadow: 0px 1px 2px rgba(60, 64, 67, 0.3), 0px 1px 3px 1px rgba(60, 64, 67, 0.15);\n",
              "      fill: #174EA6;\n",
              "    }\n",
              "\n",
              "    .colab-df-buttons div {\n",
              "      margin-bottom: 4px;\n",
              "    }\n",
              "\n",
              "    [theme=dark] .colab-df-convert {\n",
              "      background-color: #3B4455;\n",
              "      fill: #D2E3FC;\n",
              "    }\n",
              "\n",
              "    [theme=dark] .colab-df-convert:hover {\n",
              "      background-color: #434B5C;\n",
              "      box-shadow: 0px 1px 3px 1px rgba(0, 0, 0, 0.15);\n",
              "      filter: drop-shadow(0px 1px 2px rgba(0, 0, 0, 0.3));\n",
              "      fill: #FFFFFF;\n",
              "    }\n",
              "  </style>\n",
              "\n",
              "    <script>\n",
              "      const buttonEl =\n",
              "        document.querySelector('#df-753102c6-9dd6-41d5-9243-2bb86319430c button.colab-df-convert');\n",
              "      buttonEl.style.display =\n",
              "        google.colab.kernel.accessAllowed ? 'block' : 'none';\n",
              "\n",
              "      async function convertToInteractive(key) {\n",
              "        const element = document.querySelector('#df-753102c6-9dd6-41d5-9243-2bb86319430c');\n",
              "        const dataTable =\n",
              "          await google.colab.kernel.invokeFunction('convertToInteractive',\n",
              "                                                    [key], {});\n",
              "        if (!dataTable) return;\n",
              "\n",
              "        const docLinkHtml = 'Like what you see? Visit the ' +\n",
              "          '<a target=\"_blank\" href=https://colab.research.google.com/notebooks/data_table.ipynb>data table notebook</a>'\n",
              "          + ' to learn more about interactive tables.';\n",
              "        element.innerHTML = '';\n",
              "        dataTable['output_type'] = 'display_data';\n",
              "        await google.colab.output.renderOutput(dataTable, element);\n",
              "        const docLink = document.createElement('div');\n",
              "        docLink.innerHTML = docLinkHtml;\n",
              "        element.appendChild(docLink);\n",
              "      }\n",
              "    </script>\n",
              "  </div>\n",
              "\n",
              "\n",
              "    <div id=\"df-52d88e2e-3b97-41ff-a982-585b2d22c724\">\n",
              "      <button class=\"colab-df-quickchart\" onclick=\"quickchart('df-52d88e2e-3b97-41ff-a982-585b2d22c724')\"\n",
              "                title=\"Suggest charts\"\n",
              "                style=\"display:none;\">\n",
              "\n",
              "<svg xmlns=\"http://www.w3.org/2000/svg\" height=\"24px\"viewBox=\"0 0 24 24\"\n",
              "     width=\"24px\">\n",
              "    <g>\n",
              "        <path d=\"M19 3H5c-1.1 0-2 .9-2 2v14c0 1.1.9 2 2 2h14c1.1 0 2-.9 2-2V5c0-1.1-.9-2-2-2zM9 17H7v-7h2v7zm4 0h-2V7h2v10zm4 0h-2v-4h2v4z\"/>\n",
              "    </g>\n",
              "</svg>\n",
              "      </button>\n",
              "\n",
              "<style>\n",
              "  .colab-df-quickchart {\n",
              "      --bg-color: #E8F0FE;\n",
              "      --fill-color: #1967D2;\n",
              "      --hover-bg-color: #E2EBFA;\n",
              "      --hover-fill-color: #174EA6;\n",
              "      --disabled-fill-color: #AAA;\n",
              "      --disabled-bg-color: #DDD;\n",
              "  }\n",
              "\n",
              "  [theme=dark] .colab-df-quickchart {\n",
              "      --bg-color: #3B4455;\n",
              "      --fill-color: #D2E3FC;\n",
              "      --hover-bg-color: #434B5C;\n",
              "      --hover-fill-color: #FFFFFF;\n",
              "      --disabled-bg-color: #3B4455;\n",
              "      --disabled-fill-color: #666;\n",
              "  }\n",
              "\n",
              "  .colab-df-quickchart {\n",
              "    background-color: var(--bg-color);\n",
              "    border: none;\n",
              "    border-radius: 50%;\n",
              "    cursor: pointer;\n",
              "    display: none;\n",
              "    fill: var(--fill-color);\n",
              "    height: 32px;\n",
              "    padding: 0;\n",
              "    width: 32px;\n",
              "  }\n",
              "\n",
              "  .colab-df-quickchart:hover {\n",
              "    background-color: var(--hover-bg-color);\n",
              "    box-shadow: 0 1px 2px rgba(60, 64, 67, 0.3), 0 1px 3px 1px rgba(60, 64, 67, 0.15);\n",
              "    fill: var(--button-hover-fill-color);\n",
              "  }\n",
              "\n",
              "  .colab-df-quickchart-complete:disabled,\n",
              "  .colab-df-quickchart-complete:disabled:hover {\n",
              "    background-color: var(--disabled-bg-color);\n",
              "    fill: var(--disabled-fill-color);\n",
              "    box-shadow: none;\n",
              "  }\n",
              "\n",
              "  .colab-df-spinner {\n",
              "    border: 2px solid var(--fill-color);\n",
              "    border-color: transparent;\n",
              "    border-bottom-color: var(--fill-color);\n",
              "    animation:\n",
              "      spin 1s steps(1) infinite;\n",
              "  }\n",
              "\n",
              "  @keyframes spin {\n",
              "    0% {\n",
              "      border-color: transparent;\n",
              "      border-bottom-color: var(--fill-color);\n",
              "      border-left-color: var(--fill-color);\n",
              "    }\n",
              "    20% {\n",
              "      border-color: transparent;\n",
              "      border-left-color: var(--fill-color);\n",
              "      border-top-color: var(--fill-color);\n",
              "    }\n",
              "    30% {\n",
              "      border-color: transparent;\n",
              "      border-left-color: var(--fill-color);\n",
              "      border-top-color: var(--fill-color);\n",
              "      border-right-color: var(--fill-color);\n",
              "    }\n",
              "    40% {\n",
              "      border-color: transparent;\n",
              "      border-right-color: var(--fill-color);\n",
              "      border-top-color: var(--fill-color);\n",
              "    }\n",
              "    60% {\n",
              "      border-color: transparent;\n",
              "      border-right-color: var(--fill-color);\n",
              "    }\n",
              "    80% {\n",
              "      border-color: transparent;\n",
              "      border-right-color: var(--fill-color);\n",
              "      border-bottom-color: var(--fill-color);\n",
              "    }\n",
              "    90% {\n",
              "      border-color: transparent;\n",
              "      border-bottom-color: var(--fill-color);\n",
              "    }\n",
              "  }\n",
              "</style>\n",
              "\n",
              "      <script>\n",
              "        async function quickchart(key) {\n",
              "          const quickchartButtonEl =\n",
              "            document.querySelector('#' + key + ' button');\n",
              "          quickchartButtonEl.disabled = true;  // To prevent multiple clicks.\n",
              "          quickchartButtonEl.classList.add('colab-df-spinner');\n",
              "          try {\n",
              "            const charts = await google.colab.kernel.invokeFunction(\n",
              "                'suggestCharts', [key], {});\n",
              "          } catch (error) {\n",
              "            console.error('Error during call to suggestCharts:', error);\n",
              "          }\n",
              "          quickchartButtonEl.classList.remove('colab-df-spinner');\n",
              "          quickchartButtonEl.classList.add('colab-df-quickchart-complete');\n",
              "        }\n",
              "        (() => {\n",
              "          let quickchartButtonEl =\n",
              "            document.querySelector('#df-52d88e2e-3b97-41ff-a982-585b2d22c724 button');\n",
              "          quickchartButtonEl.style.display =\n",
              "            google.colab.kernel.accessAllowed ? 'block' : 'none';\n",
              "        })();\n",
              "      </script>\n",
              "    </div>\n",
              "    </div>\n",
              "  </div>\n"
            ],
            "application/vnd.google.colaboratory.intrinsic+json": {
              "type": "dataframe",
              "variable_name": "df_encoded",
              "summary": "{\n  \"name\": \"df_encoded\",\n  \"rows\": 4177,\n  \"fields\": [\n    {\n      \"column\": \"Length\",\n      \"properties\": {\n        \"dtype\": \"number\",\n        \"std\": 0.12009291256479998,\n        \"min\": 0.075,\n        \"max\": 0.815,\n        \"num_unique_values\": 134,\n        \"samples\": [\n          0.815,\n          0.65,\n          0.29\n        ],\n        \"semantic_type\": \"\",\n        \"description\": \"\"\n      }\n    },\n    {\n      \"column\": \"Diameter\",\n      \"properties\": {\n        \"dtype\": \"number\",\n        \"std\": 0.09923986613365918,\n        \"min\": 0.055,\n        \"max\": 0.65,\n        \"num_unique_values\": 111,\n        \"samples\": [\n          0.09,\n          0.35,\n          0.3\n        ],\n        \"semantic_type\": \"\",\n        \"description\": \"\"\n      }\n    },\n    {\n      \"column\": \"Height\",\n      \"properties\": {\n        \"dtype\": \"number\",\n        \"std\": 0.04182705660725703,\n        \"min\": 0.0,\n        \"max\": 1.13,\n        \"num_unique_values\": 51,\n        \"samples\": [\n          0.235,\n          0.035,\n          0.015\n        ],\n        \"semantic_type\": \"\",\n        \"description\": \"\"\n      }\n    },\n    {\n      \"column\": \"Whole weight\",\n      \"properties\": {\n        \"dtype\": \"number\",\n        \"std\": 0.49038901823099723,\n        \"min\": 0.002,\n        \"max\": 2.8255,\n        \"num_unique_values\": 2429,\n        \"samples\": [\n          1.2825,\n          1.09,\n          0.131\n        ],\n        \"semantic_type\": \"\",\n        \"description\": \"\"\n      }\n    },\n    {\n      \"column\": \"Shucked weight\",\n      \"properties\": {\n        \"dtype\": \"number\",\n        \"std\": 0.22196294903322014,\n        \"min\": 0.001,\n        \"max\": 1.488,\n        \"num_unique_values\": 1515,\n        \"samples\": [\n          0.2105,\n          0.0645,\n          0.476\n        ],\n        \"semantic_type\": \"\",\n        \"description\": \"\"\n      }\n    },\n    {\n      \"column\": \"Viscera weight\",\n      \"properties\": {\n        \"dtype\": \"number\",\n        \"std\": 0.10961425025968442,\n        \"min\": 0.0005,\n        \"max\": 0.76,\n        \"num_unique_values\": 880,\n        \"samples\": [\n          0.0645,\n          0.0095,\n          0.1115\n        ],\n        \"semantic_type\": \"\",\n        \"description\": \"\"\n      }\n    },\n    {\n      \"column\": \"Shell weight\",\n      \"properties\": {\n        \"dtype\": \"number\",\n        \"std\": 0.13920266952238575,\n        \"min\": 0.0015,\n        \"max\": 1.005,\n        \"num_unique_values\": 926,\n        \"samples\": [\n          0.3745,\n          0.2825,\n          0.49\n        ],\n        \"semantic_type\": \"\",\n        \"description\": \"\"\n      }\n    },\n    {\n      \"column\": \"Rings\",\n      \"properties\": {\n        \"dtype\": \"number\",\n        \"std\": 3,\n        \"min\": 1,\n        \"max\": 29,\n        \"num_unique_values\": 28,\n        \"samples\": [\n          11,\n          27,\n          14\n        ],\n        \"semantic_type\": \"\",\n        \"description\": \"\"\n      }\n    },\n    {\n      \"column\": \"Sex_F\",\n      \"properties\": {\n        \"dtype\": \"number\",\n        \"std\": 0,\n        \"min\": 0,\n        \"max\": 1,\n        \"num_unique_values\": 2,\n        \"samples\": [\n          1,\n          0\n        ],\n        \"semantic_type\": \"\",\n        \"description\": \"\"\n      }\n    },\n    {\n      \"column\": \"Sex_I\",\n      \"properties\": {\n        \"dtype\": \"number\",\n        \"std\": 0,\n        \"min\": 0,\n        \"max\": 1,\n        \"num_unique_values\": 2,\n        \"samples\": [\n          1,\n          0\n        ],\n        \"semantic_type\": \"\",\n        \"description\": \"\"\n      }\n    },\n    {\n      \"column\": \"Sex_M\",\n      \"properties\": {\n        \"dtype\": \"number\",\n        \"std\": 0,\n        \"min\": 0,\n        \"max\": 1,\n        \"num_unique_values\": 2,\n        \"samples\": [\n          0,\n          1\n        ],\n        \"semantic_type\": \"\",\n        \"description\": \"\"\n      }\n    }\n  ]\n}"
            }
          },
          "metadata": {},
          "execution_count": 42
        }
      ],
      "source": [
        "print(\"Данные после one-hot encoding:\")\n",
        "df_encoded.head(3)"
      ]
    },
    {
      "cell_type": "markdown",
      "metadata": {
        "id": "KcG5JBi10jkC"
      },
      "source": [
        "### 1.2. Сбор основной информации"
      ]
    },
    {
      "cell_type": "markdown",
      "metadata": {
        "id": "wnamOveQp-RQ"
      },
      "source": [
        "Получение общей информации `df_encoded.info()`"
      ]
    },
    {
      "cell_type": "code",
      "execution_count": 43,
      "metadata": {
        "colab": {
          "base_uri": "https://localhost:8080/"
        },
        "id": "dfHqpt7kp99V",
        "outputId": "7ee855f1-64ed-4bf2-9286-488debd4efe3"
      },
      "outputs": [
        {
          "output_type": "stream",
          "name": "stdout",
          "text": [
            "<class 'pandas.core.frame.DataFrame'>\n",
            "RangeIndex: 4177 entries, 0 to 4176\n",
            "Data columns (total 11 columns):\n",
            " #   Column          Non-Null Count  Dtype  \n",
            "---  ------          --------------  -----  \n",
            " 0   Length          4177 non-null   float64\n",
            " 1   Diameter        4177 non-null   float64\n",
            " 2   Height          4177 non-null   float64\n",
            " 3   Whole weight    4177 non-null   float64\n",
            " 4   Shucked weight  4177 non-null   float64\n",
            " 5   Viscera weight  4177 non-null   float64\n",
            " 6   Shell weight    4177 non-null   float64\n",
            " 7   Rings           4177 non-null   int64  \n",
            " 8   Sex_F           4177 non-null   int64  \n",
            " 9   Sex_I           4177 non-null   int64  \n",
            " 10  Sex_M           4177 non-null   int64  \n",
            "dtypes: float64(7), int64(4)\n",
            "memory usage: 359.1 KB\n"
          ]
        }
      ],
      "source": [
        "df_encoded.info()"
      ]
    },
    {
      "cell_type": "markdown",
      "metadata": {
        "id": "qw3TGggJqU65"
      },
      "source": [
        "Получение всей статистики `df_encoded.describe()`"
      ]
    },
    {
      "cell_type": "code",
      "execution_count": 44,
      "metadata": {
        "colab": {
          "base_uri": "https://localhost:8080/",
          "height": 300
        },
        "id": "xX6O1u3IqZcJ",
        "outputId": "a43df591-d883-4703-e35f-c50996217345"
      },
      "outputs": [
        {
          "output_type": "execute_result",
          "data": {
            "text/plain": [
              "            Length     Diameter       Height  Whole weight  Shucked weight  \\\n",
              "count  4177.000000  4177.000000  4177.000000   4177.000000     4177.000000   \n",
              "mean      0.523992     0.407881     0.139516      0.828742        0.359367   \n",
              "std       0.120093     0.099240     0.041827      0.490389        0.221963   \n",
              "min       0.075000     0.055000     0.000000      0.002000        0.001000   \n",
              "25%       0.450000     0.350000     0.115000      0.441500        0.186000   \n",
              "50%       0.545000     0.425000     0.140000      0.799500        0.336000   \n",
              "75%       0.615000     0.480000     0.165000      1.153000        0.502000   \n",
              "max       0.815000     0.650000     1.130000      2.825500        1.488000   \n",
              "\n",
              "       Viscera weight  Shell weight        Rings        Sex_F        Sex_I  \\\n",
              "count     4177.000000   4177.000000  4177.000000  4177.000000  4177.000000   \n",
              "mean         0.180594      0.238831     9.933684     0.312904     0.321283   \n",
              "std          0.109614      0.139203     3.224169     0.463731     0.467025   \n",
              "min          0.000500      0.001500     1.000000     0.000000     0.000000   \n",
              "25%          0.093500      0.130000     8.000000     0.000000     0.000000   \n",
              "50%          0.171000      0.234000     9.000000     0.000000     0.000000   \n",
              "75%          0.253000      0.329000    11.000000     1.000000     1.000000   \n",
              "max          0.760000      1.005000    29.000000     1.000000     1.000000   \n",
              "\n",
              "             Sex_M  \n",
              "count  4177.000000  \n",
              "mean      0.365813  \n",
              "std       0.481715  \n",
              "min       0.000000  \n",
              "25%       0.000000  \n",
              "50%       0.000000  \n",
              "75%       1.000000  \n",
              "max       1.000000  "
            ],
            "text/html": [
              "\n",
              "  <div id=\"df-ce2bea68-7ae2-4769-aff5-3dab049e841f\" class=\"colab-df-container\">\n",
              "    <div>\n",
              "<style scoped>\n",
              "    .dataframe tbody tr th:only-of-type {\n",
              "        vertical-align: middle;\n",
              "    }\n",
              "\n",
              "    .dataframe tbody tr th {\n",
              "        vertical-align: top;\n",
              "    }\n",
              "\n",
              "    .dataframe thead th {\n",
              "        text-align: right;\n",
              "    }\n",
              "</style>\n",
              "<table border=\"1\" class=\"dataframe\">\n",
              "  <thead>\n",
              "    <tr style=\"text-align: right;\">\n",
              "      <th></th>\n",
              "      <th>Length</th>\n",
              "      <th>Diameter</th>\n",
              "      <th>Height</th>\n",
              "      <th>Whole weight</th>\n",
              "      <th>Shucked weight</th>\n",
              "      <th>Viscera weight</th>\n",
              "      <th>Shell weight</th>\n",
              "      <th>Rings</th>\n",
              "      <th>Sex_F</th>\n",
              "      <th>Sex_I</th>\n",
              "      <th>Sex_M</th>\n",
              "    </tr>\n",
              "  </thead>\n",
              "  <tbody>\n",
              "    <tr>\n",
              "      <th>count</th>\n",
              "      <td>4177.000000</td>\n",
              "      <td>4177.000000</td>\n",
              "      <td>4177.000000</td>\n",
              "      <td>4177.000000</td>\n",
              "      <td>4177.000000</td>\n",
              "      <td>4177.000000</td>\n",
              "      <td>4177.000000</td>\n",
              "      <td>4177.000000</td>\n",
              "      <td>4177.000000</td>\n",
              "      <td>4177.000000</td>\n",
              "      <td>4177.000000</td>\n",
              "    </tr>\n",
              "    <tr>\n",
              "      <th>mean</th>\n",
              "      <td>0.523992</td>\n",
              "      <td>0.407881</td>\n",
              "      <td>0.139516</td>\n",
              "      <td>0.828742</td>\n",
              "      <td>0.359367</td>\n",
              "      <td>0.180594</td>\n",
              "      <td>0.238831</td>\n",
              "      <td>9.933684</td>\n",
              "      <td>0.312904</td>\n",
              "      <td>0.321283</td>\n",
              "      <td>0.365813</td>\n",
              "    </tr>\n",
              "    <tr>\n",
              "      <th>std</th>\n",
              "      <td>0.120093</td>\n",
              "      <td>0.099240</td>\n",
              "      <td>0.041827</td>\n",
              "      <td>0.490389</td>\n",
              "      <td>0.221963</td>\n",
              "      <td>0.109614</td>\n",
              "      <td>0.139203</td>\n",
              "      <td>3.224169</td>\n",
              "      <td>0.463731</td>\n",
              "      <td>0.467025</td>\n",
              "      <td>0.481715</td>\n",
              "    </tr>\n",
              "    <tr>\n",
              "      <th>min</th>\n",
              "      <td>0.075000</td>\n",
              "      <td>0.055000</td>\n",
              "      <td>0.000000</td>\n",
              "      <td>0.002000</td>\n",
              "      <td>0.001000</td>\n",
              "      <td>0.000500</td>\n",
              "      <td>0.001500</td>\n",
              "      <td>1.000000</td>\n",
              "      <td>0.000000</td>\n",
              "      <td>0.000000</td>\n",
              "      <td>0.000000</td>\n",
              "    </tr>\n",
              "    <tr>\n",
              "      <th>25%</th>\n",
              "      <td>0.450000</td>\n",
              "      <td>0.350000</td>\n",
              "      <td>0.115000</td>\n",
              "      <td>0.441500</td>\n",
              "      <td>0.186000</td>\n",
              "      <td>0.093500</td>\n",
              "      <td>0.130000</td>\n",
              "      <td>8.000000</td>\n",
              "      <td>0.000000</td>\n",
              "      <td>0.000000</td>\n",
              "      <td>0.000000</td>\n",
              "    </tr>\n",
              "    <tr>\n",
              "      <th>50%</th>\n",
              "      <td>0.545000</td>\n",
              "      <td>0.425000</td>\n",
              "      <td>0.140000</td>\n",
              "      <td>0.799500</td>\n",
              "      <td>0.336000</td>\n",
              "      <td>0.171000</td>\n",
              "      <td>0.234000</td>\n",
              "      <td>9.000000</td>\n",
              "      <td>0.000000</td>\n",
              "      <td>0.000000</td>\n",
              "      <td>0.000000</td>\n",
              "    </tr>\n",
              "    <tr>\n",
              "      <th>75%</th>\n",
              "      <td>0.615000</td>\n",
              "      <td>0.480000</td>\n",
              "      <td>0.165000</td>\n",
              "      <td>1.153000</td>\n",
              "      <td>0.502000</td>\n",
              "      <td>0.253000</td>\n",
              "      <td>0.329000</td>\n",
              "      <td>11.000000</td>\n",
              "      <td>1.000000</td>\n",
              "      <td>1.000000</td>\n",
              "      <td>1.000000</td>\n",
              "    </tr>\n",
              "    <tr>\n",
              "      <th>max</th>\n",
              "      <td>0.815000</td>\n",
              "      <td>0.650000</td>\n",
              "      <td>1.130000</td>\n",
              "      <td>2.825500</td>\n",
              "      <td>1.488000</td>\n",
              "      <td>0.760000</td>\n",
              "      <td>1.005000</td>\n",
              "      <td>29.000000</td>\n",
              "      <td>1.000000</td>\n",
              "      <td>1.000000</td>\n",
              "      <td>1.000000</td>\n",
              "    </tr>\n",
              "  </tbody>\n",
              "</table>\n",
              "</div>\n",
              "    <div class=\"colab-df-buttons\">\n",
              "\n",
              "  <div class=\"colab-df-container\">\n",
              "    <button class=\"colab-df-convert\" onclick=\"convertToInteractive('df-ce2bea68-7ae2-4769-aff5-3dab049e841f')\"\n",
              "            title=\"Convert this dataframe to an interactive table.\"\n",
              "            style=\"display:none;\">\n",
              "\n",
              "  <svg xmlns=\"http://www.w3.org/2000/svg\" height=\"24px\" viewBox=\"0 -960 960 960\">\n",
              "    <path d=\"M120-120v-720h720v720H120Zm60-500h600v-160H180v160Zm220 220h160v-160H400v160Zm0 220h160v-160H400v160ZM180-400h160v-160H180v160Zm440 0h160v-160H620v160ZM180-180h160v-160H180v160Zm440 0h160v-160H620v160Z\"/>\n",
              "  </svg>\n",
              "    </button>\n",
              "\n",
              "  <style>\n",
              "    .colab-df-container {\n",
              "      display:flex;\n",
              "      gap: 12px;\n",
              "    }\n",
              "\n",
              "    .colab-df-convert {\n",
              "      background-color: #E8F0FE;\n",
              "      border: none;\n",
              "      border-radius: 50%;\n",
              "      cursor: pointer;\n",
              "      display: none;\n",
              "      fill: #1967D2;\n",
              "      height: 32px;\n",
              "      padding: 0 0 0 0;\n",
              "      width: 32px;\n",
              "    }\n",
              "\n",
              "    .colab-df-convert:hover {\n",
              "      background-color: #E2EBFA;\n",
              "      box-shadow: 0px 1px 2px rgba(60, 64, 67, 0.3), 0px 1px 3px 1px rgba(60, 64, 67, 0.15);\n",
              "      fill: #174EA6;\n",
              "    }\n",
              "\n",
              "    .colab-df-buttons div {\n",
              "      margin-bottom: 4px;\n",
              "    }\n",
              "\n",
              "    [theme=dark] .colab-df-convert {\n",
              "      background-color: #3B4455;\n",
              "      fill: #D2E3FC;\n",
              "    }\n",
              "\n",
              "    [theme=dark] .colab-df-convert:hover {\n",
              "      background-color: #434B5C;\n",
              "      box-shadow: 0px 1px 3px 1px rgba(0, 0, 0, 0.15);\n",
              "      filter: drop-shadow(0px 1px 2px rgba(0, 0, 0, 0.3));\n",
              "      fill: #FFFFFF;\n",
              "    }\n",
              "  </style>\n",
              "\n",
              "    <script>\n",
              "      const buttonEl =\n",
              "        document.querySelector('#df-ce2bea68-7ae2-4769-aff5-3dab049e841f button.colab-df-convert');\n",
              "      buttonEl.style.display =\n",
              "        google.colab.kernel.accessAllowed ? 'block' : 'none';\n",
              "\n",
              "      async function convertToInteractive(key) {\n",
              "        const element = document.querySelector('#df-ce2bea68-7ae2-4769-aff5-3dab049e841f');\n",
              "        const dataTable =\n",
              "          await google.colab.kernel.invokeFunction('convertToInteractive',\n",
              "                                                    [key], {});\n",
              "        if (!dataTable) return;\n",
              "\n",
              "        const docLinkHtml = 'Like what you see? Visit the ' +\n",
              "          '<a target=\"_blank\" href=https://colab.research.google.com/notebooks/data_table.ipynb>data table notebook</a>'\n",
              "          + ' to learn more about interactive tables.';\n",
              "        element.innerHTML = '';\n",
              "        dataTable['output_type'] = 'display_data';\n",
              "        await google.colab.output.renderOutput(dataTable, element);\n",
              "        const docLink = document.createElement('div');\n",
              "        docLink.innerHTML = docLinkHtml;\n",
              "        element.appendChild(docLink);\n",
              "      }\n",
              "    </script>\n",
              "  </div>\n",
              "\n",
              "\n",
              "    <div id=\"df-ab754062-4b0b-4fec-8a9b-89691c115475\">\n",
              "      <button class=\"colab-df-quickchart\" onclick=\"quickchart('df-ab754062-4b0b-4fec-8a9b-89691c115475')\"\n",
              "                title=\"Suggest charts\"\n",
              "                style=\"display:none;\">\n",
              "\n",
              "<svg xmlns=\"http://www.w3.org/2000/svg\" height=\"24px\"viewBox=\"0 0 24 24\"\n",
              "     width=\"24px\">\n",
              "    <g>\n",
              "        <path d=\"M19 3H5c-1.1 0-2 .9-2 2v14c0 1.1.9 2 2 2h14c1.1 0 2-.9 2-2V5c0-1.1-.9-2-2-2zM9 17H7v-7h2v7zm4 0h-2V7h2v10zm4 0h-2v-4h2v4z\"/>\n",
              "    </g>\n",
              "</svg>\n",
              "      </button>\n",
              "\n",
              "<style>\n",
              "  .colab-df-quickchart {\n",
              "      --bg-color: #E8F0FE;\n",
              "      --fill-color: #1967D2;\n",
              "      --hover-bg-color: #E2EBFA;\n",
              "      --hover-fill-color: #174EA6;\n",
              "      --disabled-fill-color: #AAA;\n",
              "      --disabled-bg-color: #DDD;\n",
              "  }\n",
              "\n",
              "  [theme=dark] .colab-df-quickchart {\n",
              "      --bg-color: #3B4455;\n",
              "      --fill-color: #D2E3FC;\n",
              "      --hover-bg-color: #434B5C;\n",
              "      --hover-fill-color: #FFFFFF;\n",
              "      --disabled-bg-color: #3B4455;\n",
              "      --disabled-fill-color: #666;\n",
              "  }\n",
              "\n",
              "  .colab-df-quickchart {\n",
              "    background-color: var(--bg-color);\n",
              "    border: none;\n",
              "    border-radius: 50%;\n",
              "    cursor: pointer;\n",
              "    display: none;\n",
              "    fill: var(--fill-color);\n",
              "    height: 32px;\n",
              "    padding: 0;\n",
              "    width: 32px;\n",
              "  }\n",
              "\n",
              "  .colab-df-quickchart:hover {\n",
              "    background-color: var(--hover-bg-color);\n",
              "    box-shadow: 0 1px 2px rgba(60, 64, 67, 0.3), 0 1px 3px 1px rgba(60, 64, 67, 0.15);\n",
              "    fill: var(--button-hover-fill-color);\n",
              "  }\n",
              "\n",
              "  .colab-df-quickchart-complete:disabled,\n",
              "  .colab-df-quickchart-complete:disabled:hover {\n",
              "    background-color: var(--disabled-bg-color);\n",
              "    fill: var(--disabled-fill-color);\n",
              "    box-shadow: none;\n",
              "  }\n",
              "\n",
              "  .colab-df-spinner {\n",
              "    border: 2px solid var(--fill-color);\n",
              "    border-color: transparent;\n",
              "    border-bottom-color: var(--fill-color);\n",
              "    animation:\n",
              "      spin 1s steps(1) infinite;\n",
              "  }\n",
              "\n",
              "  @keyframes spin {\n",
              "    0% {\n",
              "      border-color: transparent;\n",
              "      border-bottom-color: var(--fill-color);\n",
              "      border-left-color: var(--fill-color);\n",
              "    }\n",
              "    20% {\n",
              "      border-color: transparent;\n",
              "      border-left-color: var(--fill-color);\n",
              "      border-top-color: var(--fill-color);\n",
              "    }\n",
              "    30% {\n",
              "      border-color: transparent;\n",
              "      border-left-color: var(--fill-color);\n",
              "      border-top-color: var(--fill-color);\n",
              "      border-right-color: var(--fill-color);\n",
              "    }\n",
              "    40% {\n",
              "      border-color: transparent;\n",
              "      border-right-color: var(--fill-color);\n",
              "      border-top-color: var(--fill-color);\n",
              "    }\n",
              "    60% {\n",
              "      border-color: transparent;\n",
              "      border-right-color: var(--fill-color);\n",
              "    }\n",
              "    80% {\n",
              "      border-color: transparent;\n",
              "      border-right-color: var(--fill-color);\n",
              "      border-bottom-color: var(--fill-color);\n",
              "    }\n",
              "    90% {\n",
              "      border-color: transparent;\n",
              "      border-bottom-color: var(--fill-color);\n",
              "    }\n",
              "  }\n",
              "</style>\n",
              "\n",
              "      <script>\n",
              "        async function quickchart(key) {\n",
              "          const quickchartButtonEl =\n",
              "            document.querySelector('#' + key + ' button');\n",
              "          quickchartButtonEl.disabled = true;  // To prevent multiple clicks.\n",
              "          quickchartButtonEl.classList.add('colab-df-spinner');\n",
              "          try {\n",
              "            const charts = await google.colab.kernel.invokeFunction(\n",
              "                'suggestCharts', [key], {});\n",
              "          } catch (error) {\n",
              "            console.error('Error during call to suggestCharts:', error);\n",
              "          }\n",
              "          quickchartButtonEl.classList.remove('colab-df-spinner');\n",
              "          quickchartButtonEl.classList.add('colab-df-quickchart-complete');\n",
              "        }\n",
              "        (() => {\n",
              "          let quickchartButtonEl =\n",
              "            document.querySelector('#df-ab754062-4b0b-4fec-8a9b-89691c115475 button');\n",
              "          quickchartButtonEl.style.display =\n",
              "            google.colab.kernel.accessAllowed ? 'block' : 'none';\n",
              "        })();\n",
              "      </script>\n",
              "    </div>\n",
              "    </div>\n",
              "  </div>\n"
            ],
            "application/vnd.google.colaboratory.intrinsic+json": {
              "type": "dataframe",
              "summary": "{\n  \"name\": \"df_encoded\",\n  \"rows\": 8,\n  \"fields\": [\n    {\n      \"column\": \"Length\",\n      \"properties\": {\n        \"dtype\": \"number\",\n        \"std\": 1476.6337327640701,\n        \"min\": 0.075,\n        \"max\": 4177.0,\n        \"num_unique_values\": 8,\n        \"samples\": [\n          0.5239920995930094,\n          0.545,\n          4177.0\n        ],\n        \"semantic_type\": \"\",\n        \"description\": \"\"\n      }\n    },\n    {\n      \"column\": \"Diameter\",\n      \"properties\": {\n        \"dtype\": \"number\",\n        \"std\": 1476.6679169284005,\n        \"min\": 0.055,\n        \"max\": 4177.0,\n        \"num_unique_values\": 8,\n        \"samples\": [\n          0.40788125448886764,\n          0.425,\n          4177.0\n        ],\n        \"semantic_type\": \"\",\n        \"description\": \"\"\n      }\n    },\n    {\n      \"column\": \"Height\",\n      \"properties\": {\n        \"dtype\": \"number\",\n        \"std\": 1476.705111439784,\n        \"min\": 0.0,\n        \"max\": 4177.0,\n        \"num_unique_values\": 8,\n        \"samples\": [\n          0.13951639932966242,\n          0.14,\n          4177.0\n        ],\n        \"semantic_type\": \"\",\n        \"description\": \"\"\n      }\n    },\n    {\n      \"column\": \"Whole weight\",\n      \"properties\": {\n        \"dtype\": \"number\",\n        \"std\": 1476.4624008415421,\n        \"min\": 0.002,\n        \"max\": 4177.0,\n        \"num_unique_values\": 8,\n        \"samples\": [\n          0.8287421594445774,\n          0.7995,\n          4177.0\n        ],\n        \"semantic_type\": \"\",\n        \"description\": \"\"\n      }\n    },\n    {\n      \"column\": \"Shucked weight\",\n      \"properties\": {\n        \"dtype\": \"number\",\n        \"std\": 1476.636294112588,\n        \"min\": 0.001,\n        \"max\": 4177.0,\n        \"num_unique_values\": 8,\n        \"samples\": [\n          0.35936748862820206,\n          0.336,\n          4177.0\n        ],\n        \"semantic_type\": \"\",\n        \"description\": \"\"\n      }\n    },\n    {\n      \"column\": \"Viscera weight\",\n      \"properties\": {\n        \"dtype\": \"number\",\n        \"std\": 1476.7133240871924,\n        \"min\": 0.0005,\n        \"max\": 4177.0,\n        \"num_unique_values\": 8,\n        \"samples\": [\n          0.1805936078525257,\n          0.171,\n          4177.0\n        ],\n        \"semantic_type\": \"\",\n        \"description\": \"\"\n      }\n    },\n    {\n      \"column\": \"Shell weight\",\n      \"properties\": {\n        \"dtype\": \"number\",\n        \"std\": 1476.6876126479815,\n        \"min\": 0.0015,\n        \"max\": 4177.0,\n        \"num_unique_values\": 8,\n        \"samples\": [\n          0.23883085946851804,\n          0.234,\n          4177.0\n        ],\n        \"semantic_type\": \"\",\n        \"description\": \"\"\n      }\n    },\n    {\n      \"column\": \"Rings\",\n      \"properties\": {\n        \"dtype\": \"number\",\n        \"std\": 1473.2224364019637,\n        \"min\": 1.0,\n        \"max\": 4177.0,\n        \"num_unique_values\": 8,\n        \"samples\": [\n          9.933684462532918,\n          9.0,\n          4177.0\n        ],\n        \"semantic_type\": \"\",\n        \"description\": \"\"\n      }\n    },\n    {\n      \"column\": \"Sex_F\",\n      \"properties\": {\n        \"dtype\": \"number\",\n        \"std\": 1476.6523298616282,\n        \"min\": 0.0,\n        \"max\": 4177.0,\n        \"num_unique_values\": 5,\n        \"samples\": [\n          0.31290399808474983,\n          1.0,\n          0.4637311393091278\n        ],\n        \"semantic_type\": \"\",\n        \"description\": \"\"\n      }\n    },\n    {\n      \"column\": \"Sex_I\",\n      \"properties\": {\n        \"dtype\": \"number\",\n        \"std\": 1476.6517402288657,\n        \"min\": 0.0,\n        \"max\": 4177.0,\n        \"num_unique_values\": 5,\n        \"samples\": [\n          0.32128321762030165,\n          1.0,\n          0.46702519118718333\n        ],\n        \"semantic_type\": \"\",\n        \"description\": \"\"\n      }\n    },\n    {\n      \"column\": \"Sex_M\",\n      \"properties\": {\n        \"dtype\": \"number\",\n        \"std\": 1476.6487490464663,\n        \"min\": 0.0,\n        \"max\": 4177.0,\n        \"num_unique_values\": 5,\n        \"samples\": [\n          0.3658127842949485,\n          1.0,\n          0.4817150041363384\n        ],\n        \"semantic_type\": \"\",\n        \"description\": \"\"\n      }\n    }\n  ]\n}"
            }
          },
          "metadata": {},
          "execution_count": 44
        }
      ],
      "source": [
        "df_encoded.describe()"
      ]
    },
    {
      "cell_type": "markdown",
      "metadata": {
        "id": "A23uJ4lNrrQs"
      },
      "source": [
        "**Вывод:**\n",
        "\n",
        "1. **Общая информация**\n",
        "\n",
        "    * **Размер датасета**: 4177 наблюдений (морских улиток).\n",
        "    * **Целевая переменная (Rings)**: принимает значения от **1 до 29**, со средним ≈ **9.93**.\n",
        "    \n",
        "        -> Возраст улиток варьируется от 1 года (молодые особи) до 29 лет (старые), но большинство улиток имеют возраст **8–11 лет** (25%–75% перцентили).\n",
        "        -> Распределение возраста симметричное (медиана 9.0), стандартное отклонение 3.22 — улитки в основном не слишком молодые и не очень старые.\n",
        "\n",
        "2. **Размеры тела**\n",
        "\n",
        "    * **Length (длина)**:\n",
        "        * Среднее ≈ 0.52, разброс значительный (от 0.075 до 0.815).\n",
        "        * Большинство улиток имеют длину в диапазоне **0.45–0.615** (25%–75% перцентили).\n",
        "        * Минимальное значение (0.075) соответствует очень молодым особям, максимальное (0.815) — крупным взрослым.\n",
        "\n",
        "    * **Diameter (диаметр)**:\n",
        "        * Среднее ≈ 0.408, минимальное 0.055, максимальное 0.65.\n",
        "        * Основная масса улиток имеет диаметр **0.35–0.48** (25%–75% перцентили).\n",
        "        * Соотношение длины к диаметру ≈ 1.3:1 — типично для раковин моллюсков.\n",
        "\n",
        "    * **Height (высота)**:\n",
        "        * Среднее ≈ 0.14, но **максимальное значение 1.13 — аномально высокое** (в 8 раз больше медианы 0.14).\n",
        "        * Минимальное значение **0 — физически невозможно** для живой улитки (вероятно, ошибка в данных или незаполненные значения).\n",
        "        * Большинство улиток имеют высоту **0.115–0.165**, но есть экстремальные выбросы, требующие проверки.\n",
        "\n",
        "3. **Весовые характеристики**\n",
        "\n",
        "    * **Whole weight (общий вес)**:\n",
        "        * Среднее ≈ 0.83, стандартное отклонение 0.49 — сильный разброс.\n",
        "        * Минимальное значение **0.002** (микроскопические особи) vs максимальное **2.8255** (крупные улитки).\n",
        "        * Большинство улиток весят **0.44–1.15** — вес коррелирует с возрастом (Rings), но есть редкие экземпляры с аномально высоким весом.\n",
        "\n",
        "    * **Shell weight (вес раковины)**:\n",
        "        * Среднее ≈ 0.24, медиана 0.234 — раковина составляет ~25% от общего веса.\n",
        "        * Вес раковины в основном **0.13–0.33**, что соответствует здоровому росту. Высокие значения (>0.5) могут указывать на старые особи.\n",
        "\n",
        "    * **Shucked weight (вес мяса)** и **Viscera weight (вес внутренностей)**:\n",
        "        * Мясо составляет ~43% от общего веса (Shucked weight среднее 0.36), внутренности — ~22% (Viscera weight среднее 0.18).\n",
        "        * Соотношение мяса к внутренностям ≈ 2:1 — типично для моллюсков. Высокие значения Viscera weight (>0.5) могут быть связаны с размножением.\n",
        "\n",
        "4. **Пол (Sex)**\n",
        "\n",
        "    * **Распределение по полу**:\n",
        "        * **Sex_M (мужские)**: 36.6% (среднее 0.366) — наиболее распространенная категория.\n",
        "        * **Sex_I (неопределенные)**: 32.1% (среднее 0.321) — молодые особи, пол еще не определен.\n",
        "        * **Sex_F (женские)**: 31.3% (среднее 0.313) — немного реже мужских.\n",
        "    \n",
        "    * **Вывод**: Пол распределен почти равномерно, что важно для анализа (нет дисбаланса). Неопределенные особи (Sex_I) составляют треть датасета — возможно, это данные о молодых улитках до полового созревания."
      ]
    },
    {
      "cell_type": "markdown",
      "metadata": {
        "id": "mLrErhBLq3tu"
      },
      "source": [
        "Проверка на пропуски данных `df_encoded.isnull().sum()`"
      ]
    },
    {
      "cell_type": "code",
      "execution_count": 45,
      "metadata": {
        "colab": {
          "base_uri": "https://localhost:8080/"
        },
        "id": "Ozlugi5prAjx",
        "outputId": "4e9a8222-0e6f-41a5-cb43-d29736d6eae0"
      },
      "outputs": [
        {
          "output_type": "stream",
          "name": "stdout",
          "text": [
            "Length            0\n",
            "Diameter          0\n",
            "Height            0\n",
            "Whole weight      0\n",
            "Shucked weight    0\n",
            "Viscera weight    0\n",
            "Shell weight      0\n",
            "Rings             0\n",
            "Sex_F             0\n",
            "Sex_I             0\n",
            "Sex_M             0\n",
            "dtype: int64\n"
          ]
        }
      ],
      "source": [
        "print(df_encoded.isnull().sum())"
      ]
    },
    {
      "cell_type": "markdown",
      "metadata": {
        "id": "pKLxQskerKbm"
      },
      "source": [
        "**Вывод:** в датасете нет пропусков!"
      ]
    },
    {
      "cell_type": "markdown",
      "metadata": {
        "id": "kf-hzWQssygw"
      },
      "source": [
        "Посмотрим на распределение целевой переменной"
      ]
    },
    {
      "cell_type": "code",
      "execution_count": 46,
      "metadata": {
        "colab": {
          "base_uri": "https://localhost:8080/",
          "height": 569
        },
        "id": "kLHJNLxXs-84",
        "outputId": "bd423a94-8916-4af8-9141-25cad14ead29"
      },
      "outputs": [
        {
          "output_type": "display_data",
          "data": {
            "text/plain": [
              "<Figure size 1000x600 with 1 Axes>"
            ],
            "image/png": "[encoded data removed]"
          },
          "metadata": {}
        }
      ],
      "source": [
        "import seaborn as sns\n",
        "import matplotlib.pyplot as plt\n",
        "\n",
        "plt.figure(figsize=(10, 6))\n",
        "sns.histplot(\n",
        "    data=df_encoded,\n",
        "    x='Rings',\n",
        "    kde=True,\n",
        "    bins=20,\n",
        "    color='skyblue'\n",
        ")\n",
        "plt.title('Распределение количества колец (возраст улиток)', fontsize=14)\n",
        "plt.xlabel('Количество колец', fontsize=12)\n",
        "plt.ylabel('Количество наблюдений', fontsize=12)\n",
        "plt.grid(axis='y', alpha=0.3)\n",
        "plt.show()\n"
      ]
    },
    {
      "cell_type": "markdown",
      "metadata": {
        "id": "rUDynE9hvHey"
      },
      "source": [
        "**Вывод:**\n",
        "\n",
        "Размер датасета: 4177 наблюдений (морских улиток).        \n",
        "Целевая переменная (Rings): принимает значения от 1 до 29, со средним ≈ 9.93.\n",
        "-> Возраст улиток в основном сосредоточен в диапазоне 8–11 лет (25%–75% перцентили), медиана = 9.0.\n",
        "-> Распределение симметричное и сбалансированное — нет значительного перекоса в сторону молодых или старых особей. Это идеально для задач регрессии, так как все возрастные группы представлены достаточно равномерно.\n",
        "         \n",
        "     "
      ]
    },
    {
      "cell_type": "markdown",
      "metadata": {
        "id": "BOHnIKStw7bk"
      },
      "source": [
        "Посмотрим на корреляцию данных.\n",
        "\n",
        "***Определение 1: Корреляция данных — это статистическая мера, показывающая, насколько и в каком направлении связаны между собой две переменные.***"
      ]
    },
    {
      "cell_type": "code",
      "execution_count": 47,
      "metadata": {
        "colab": {
          "base_uri": "https://localhost:8080/",
          "height": 795
        },
        "id": "4Oz9HIa_w0U7",
        "outputId": "b4c9bfd8-ae50-4744-ff40-7fa35467aea7"
      },
      "outputs": [
        {
          "output_type": "display_data",
          "data": {
            "text/plain": [
              "<Figure size 1000x800 with 2 Axes>"
            ],
            "image/png": "[encoded data removed]"
          },
          "metadata": {}
        }
      ],
      "source": [
        "def draw_corr_matrix(df):\n",
        "    plt.figure(figsize=(10,8))\n",
        "    sns.heatmap(df.corr(), annot=True, cmap=\"coolwarm\", fmt=\".2f\")\n",
        "    plt.title(\"Корреляционная матрица признаков\")\n",
        "    plt.show()\n",
        "\n",
        "draw_corr_matrix(df_encoded)"
      ]
    },
    {
      "cell_type": "markdown",
      "metadata": {
        "id": "0P3UH-koec_m"
      },
      "source": [
        "**Анализ корреляционной матрицы:**\n",
        "\n",
        "1. **Сильные положительные корреляции**  \n",
        "   - **Размеры тела**:  \n",
        "     `Length` ↔ `Diameter` (**0.99**), `Length` ↔ `Whole weight` (**0.93**), `Diameter` ↔ `Whole weight` (**0.93**) — улитки с большими размерами имеют больший общий вес.  \n",
        "     Это логично: рост улитки пропорционален увеличению всех её параметров.  \n",
        "\n",
        "   - **Весовые характеристики**:  \n",
        "     `Whole weight` ↔ `Shucked weight` (**0.97**), `Shell weight` ↔ `Whole weight` (**0.96**) — общая масса улитки зависит от веса мяса (`Shucked weight`) и раковины (`Shell weight`).  \n",
        "\n",
        "2. **Корреляции с целевой переменной (Rings)**  \n",
        "   - **Наибольшая связь**:  \n",
        "     `Shell weight` ↔ `Rings` (**0.63**) — чем старше улитка, тем тяжелее её раковина. Это ключевой признак для предсказания возраста.  \n",
        "     `Whole weight` ↔ `Rings` (**0.56**) — общий вес также растёт с возрастом, но медленнее, чем вес раковины.  \n",
        "\n",
        "   - **Слабые связи**:  \n",
        "     `Viscera weight` ↔ `Rings` (**0.45**) — внутренние органы растут, но не пропорционально возрасту.  \n",
        "     `Sex_*` ↔ `Rings` (**−0.44 до −0.52**) — женские и молодые улитки (`Sex_F`, `Sex_I`) чаще встречаются в более молодых возрастных группах.  \n",
        "\n",
        "3. **Мультиколлинеарность**  \n",
        "   - **Размеры тела**:  \n",
        "     `Length`, `Diameter`, `Height` коррелируют выше **0.8** — их использование вместе в линейных моделях приведёт к нестабильности коэффициентов.\n",
        "\n",
        "   - **Весовые признаки**:  \n",
        "     `Whole weight` ↔ `Shucked weight` (**0.97**) — информация дублируется.  \n",
        "\n",
        "4. **Отрицательные корреляции**  \n",
        "   - `Sex_M` ↔ `Sex_F` (**−0.56**), `Sex_I` ↔ `Sex_M` (**−0.52**) — улитки не могут быть одновременно мужскими и женскими/иммартурными.\n",
        "\n",
        "---\n",
        "\n",
        "- **Основные признаки для модели линейной регрессии**: `Shell weight`, `Length`.  "
      ]
    },
    {
      "cell_type": "markdown",
      "metadata": {
        "id": "0-JoioCT0sqG"
      },
      "source": [
        "### 1.3. Подготовка датасета под разные задачи"
      ]
    },
    {
      "cell_type": "markdown",
      "metadata": {
        "id": "RmY4Kuz40yKd"
      },
      "source": [
        "#### 1.3.1 Линейная регрессия (Linear Regression / Ridge / Lasso)\n",
        "\n",
        "**Особенности модели:**\n",
        "\n",
        "- Чувствительна к масштабу признаков и мультиколлинеарности.\n",
        "- Чувствительна к выбросам."
      ]
    },
    {
      "cell_type": "markdown",
      "metadata": {
        "id": "CGCXGuXr2DiE"
      },
      "source": [
        "Разделение датасета на свойства и целевую переменную"
      ]
    },
    {
      "cell_type": "code",
      "execution_count": 48,
      "metadata": {
        "id": "bVARP3Uh2GWM",
        "colab": {
          "base_uri": "https://localhost:8080/",
          "height": 699
        },
        "outputId": "c44b7c89-1914-4ef4-d673-8a0a6691e181"
      },
      "outputs": [
        {
          "output_type": "display_data",
          "data": {
            "text/plain": [
              "<Figure size 1000x800 with 2 Axes>"
            ],
            "image/png": "[encoded data removed]"
          },
          "metadata": {}
        }
      ],
      "source": [
        "selected_features = ['Length', 'Shell weight', 'Sex_F', 'Sex_I', 'Sex_M']\n",
        "X_linear = df_encoded[selected_features]\n",
        "Y_linear = df_encoded['Rings']\n",
        "\n",
        "draw_corr_matrix(X_linear)\n"
      ]
    },
    {
      "cell_type": "markdown",
      "metadata": {
        "id": "UC8Mbz_V2Lgy"
      },
      "source": [
        "Здесь довольно большая корреляция между Length и Shell Weight, но это нормально, поскольку они отражают важные физические характеристики."
      ]
    },
    {
      "cell_type": "markdown",
      "metadata": {
        "id": "nKfNfmXwtDzj"
      },
      "source": [
        "Добавим функцию проверки на выбросы данных."
      ]
    },
    {
      "cell_type": "code",
      "execution_count": 49,
      "metadata": {
        "id": "f-b9aUSStDzj"
      },
      "outputs": [],
      "source": [
        "def check_outliers(df, columns=None, title=\"\"):\n",
        "    if columns is None:\n",
        "        columns = df.select_dtypes(include='number').columns\n",
        "\n",
        "    for col in columns:\n",
        "        Q1 = df[col].quantile(0.25)\n",
        "        Q3 = df[col].quantile(0.75)\n",
        "        IQR = Q3 - Q1\n",
        "        lower_bound = Q1 - 1.5 * IQR\n",
        "        upper_bound = Q3 + 1.5 * IQR\n",
        "        outliers = df[(df[col] < lower_bound) | (df[col] > upper_bound)]\n",
        "\n",
        "        print(f\"\\n{title}{col}: {len(outliers)} выбросов ({len(outliers)/len(df)*100:.1f}%)\")\n",
        "        print(f\"Границы: [{lower_bound:.4f}, {upper_bound:.4f}]\")\n",
        "\n",
        "        # Визуализация\n",
        "        plt.figure(figsize=(8, 4))\n",
        "        sns.boxplot(x=df[col])\n",
        "        plt.title(f'{col} | Выбросы: {len(outliers)}')\n",
        "        plt.show()"
      ]
    },
    {
      "cell_type": "markdown",
      "metadata": {
        "id": "6hvjc5wNtDzj"
      },
      "source": [
        "Визуализируем целевую переменную - Y и набор свойств - X. Также подготовим заранее разделение на Train/Test. Скошенность бинарных данных - пол, не требует дальнейшей трансформации."
      ]
    },
    {
      "cell_type": "code",
      "execution_count": 50,
      "metadata": {
        "colab": {
          "base_uri": "https://localhost:8080/"
        },
        "id": "Xrf4Zf5K2slT",
        "outputId": "46df6120-768c-420c-cdd0-33781be935cc"
      },
      "outputs": [
        {
          "output_type": "stream",
          "name": "stdout",
          "text": [
            "Length         -0.639873\n",
            "Shell weight    0.620927\n",
            "Sex_F           0.807302\n",
            "Sex_I           0.765708\n",
            "Sex_M           0.557390\n",
            "dtype: float64\n",
            "Скошенные столбцы Свойств: ['Length', 'Shell weight', 'Sex_F', 'Sex_I', 'Sex_M']\n",
            "\n",
            "Скошенность целевой переменной (Rings): 1.1141\n",
            "Целевая переменная сильно скошена!\n"
          ]
        }
      ],
      "source": [
        "from sklearn.model_selection import train_test_split\n",
        "\n",
        "skew_values_X_linear = X_linear.skew()\n",
        "skew_values_hard = skew_values_X_linear[abs(skew_values_X_linear) > 0.5]  # выделяем сильноскошенные данные\n",
        "print(skew_values_hard)  # сильно скошенные\n",
        "\n",
        "skew_columns_hard = list(skew_values_hard.index)\n",
        "print(f'Скошенные столбцы Свойств: {skew_columns_hard}')\n",
        "\n",
        "y_skew = Y_linear.skew()\n",
        "print(f\"\\nСкошенность целевой переменной (Rings): {y_skew:.4f}\")\n",
        "if abs(y_skew) > 0.5:\n",
        "    print(\"Целевая переменная сильно скошена!\")\n",
        "else:\n",
        "    print(\"Целевая переменная не сильно скошена!\")\n",
        "\n",
        "X_linear_train, X_linear_test, Y_linear_train, Y_linear_test = train_test_split(\n",
        "    X_linear, Y_linear, test_size=0.2, random_state=RND_SEED)"
      ]
    },
    {
      "cell_type": "markdown",
      "metadata": {
        "id": "BLcQkpOJ3_aD"
      },
      "source": [
        "Проверим X_linear_train и Y_linear_train на выбросы."
      ]
    },
    {
      "cell_type": "code",
      "execution_count": 51,
      "metadata": {
        "colab": {
          "base_uri": "https://localhost:8080/",
          "height": 1000
        },
        "id": "PViPdLe9tDzs",
        "outputId": "3c788445-db75-4431-eaaa-ab8852661bc5"
      },
      "outputs": [
        {
          "output_type": "stream",
          "name": "stdout",
          "text": [
            "\n",
            "X_linear_train (до): Length: 41 выбросов (1.2%)\n",
            "Границы: [0.2025, 0.8625]\n"
          ]
        },
        {
          "output_type": "display_data",
          "data": {
            "text/plain": [
              "<Figure size 800x400 with 1 Axes>"
            ],
            "image/png": "[encoded data removed]"
          },
          "metadata": {}
        },
        {
          "output_type": "stream",
          "name": "stdout",
          "text": [
            "\n",
            "X_linear_train (до): Shell weight: 26 выбросов (0.8%)\n",
            "Границы: [-0.1700, 0.6300]\n"
          ]
        },
        {
          "output_type": "display_data",
          "data": {
            "text/plain": [
              "<Figure size 800x400 with 1 Axes>"
            ],
            "image/png": "[encoded data removed]"
          },
          "metadata": {}
        },
        {
          "output_type": "stream",
          "name": "stdout",
          "text": [
            "\n",
            "X_linear_train (до): Sex_F: 0 выбросов (0.0%)\n",
            "Границы: [-1.5000, 2.5000]\n"
          ]
        },
        {
          "output_type": "display_data",
          "data": {
            "text/plain": [
              "<Figure size 800x400 with 1 Axes>"
            ],
            "image/png": "[encoded data removed]"
          },
          "metadata": {}
        },
        {
          "output_type": "stream",
          "name": "stdout",
          "text": [
            "\n",
            "X_linear_train (до): Sex_I: 0 выбросов (0.0%)\n",
            "Границы: [-1.5000, 2.5000]\n"
          ]
        },
        {
          "output_type": "display_data",
          "data": {
            "text/plain": [
              "<Figure size 800x400 with 1 Axes>"
            ],
            "image/png": "[encoded data removed]"
          },
          "metadata": {}
        },
        {
          "output_type": "stream",
          "name": "stdout",
          "text": [
            "\n",
            "X_linear_train (до): Sex_M: 0 выбросов (0.0%)\n",
            "Границы: [-1.5000, 2.5000]\n"
          ]
        },
        {
          "output_type": "display_data",
          "data": {
            "text/plain": [
              "<Figure size 800x400 with 1 Axes>"
            ],
            "image/png": "[encoded data removed]"
          },
          "metadata": {}
        },
        {
          "output_type": "stream",
          "name": "stdout",
          "text": [
            "\n",
            "Y_linear_train (до): Rings: 210 выбросов (6.3%)\n",
            "Границы: [3.5000, 15.5000]\n"
          ]
        },
        {
          "output_type": "display_data",
          "data": {
            "text/plain": [
              "<Figure size 800x400 with 1 Axes>"
            ],
            "image/png": "[encoded data removed]"
          },
          "metadata": {}
        }
      ],
      "source": [
        "check_outliers(X_linear_train, title=\"X_linear_train (до): \")\n",
        "\n",
        "check_outliers(pd.DataFrame(Y_linear_train, columns=['Rings']), title=\"Y_linear_train (до): \")"
      ]
    },
    {
      "cell_type": "markdown",
      "metadata": {
        "id": "vJCo4HQFtDzs"
      },
      "source": [
        "Исправим данные для свойства - Shell Weight и целевой переменной Rings. Править для других не имеет смысла, поскольку процент очень незначителен от общего числа."
      ]
    },
    {
      "cell_type": "code",
      "execution_count": 52,
      "metadata": {
        "id": "Ptd05r9StDzs"
      },
      "outputs": [],
      "source": [
        "X_linear_train['Shell weight'] = X_linear_train['Shell weight'].apply(lambda x: 0 if x < 0 else x)\n",
        "\n",
        "mask = Y_linear_train >= 3.5  # Оставляем только Rings >= 3.5\n",
        "\n",
        "X_linear_train = X_linear_train.loc[mask]\n",
        "Y_linear_train = Y_linear_train[mask]"
      ]
    },
    {
      "cell_type": "markdown",
      "metadata": {
        "id": "tmZaclwJtDzs"
      },
      "source": [
        "Трансформация целевой переменной Y."
      ]
    },
    {
      "cell_type": "code",
      "execution_count": 53,
      "metadata": {
        "id": "c2ogx_n24Zio"
      },
      "outputs": [],
      "source": [
        "from sklearn.preprocessing import PowerTransformer\n",
        "\n",
        "pt_y_linear = PowerTransformer(method='yeo-johnson')\n",
        "y_linear_train_transformed = pt_y_linear.fit_transform(Y_linear_train.values.reshape(-1, 1)).flatten()\n",
        "y_linear_test_transformed = pt_y_linear.transform(Y_linear_test.values.reshape(-1, 1)).flatten()"
      ]
    },
    {
      "cell_type": "markdown",
      "metadata": {
        "id": "llXWJDdhtDzt"
      },
      "source": [
        "Проверка целевой переменной Y после трансформации."
      ]
    },
    {
      "cell_type": "code",
      "execution_count": 54,
      "metadata": {
        "colab": {
          "base_uri": "https://localhost:8080/",
          "height": 476
        },
        "id": "jorWqICitDzt",
        "outputId": "fdf74e7b-e7aa-49e7-b782-5ec458c7626b"
      },
      "outputs": [
        {
          "output_type": "stream",
          "name": "stdout",
          "text": [
            "\n",
            "Скошенность Y после трансформации:\n",
            "Train: -0.0042\n",
            "Test:  -0.1450\n"
          ]
        },
        {
          "output_type": "display_data",
          "data": {
            "text/plain": [
              "<Figure size 800x400 with 1 Axes>"
            ],
            "image/png": "[encoded data removed]"
          },
          "metadata": {}
        }
      ],
      "source": [
        "print(\"\\nСкошенность Y после трансформации:\")\n",
        "print(f\"Train: {pd.Series(y_linear_train_transformed).skew():.4f}\")\n",
        "print(f\"Test:  {pd.Series(y_linear_test_transformed).skew():.4f}\")\n",
        "\n",
        "plt.figure(figsize=(8, 4))\n",
        "sns.histplot(y_linear_train_transformed, kde=True, bins=30)\n",
        "plt.title(f'Rings transformed (skew={pd.Series(y_linear_train_transformed).skew():.2f})')\n",
        "plt.xlabel('Преобразованное значение Rings')\n",
        "plt.ylabel('Частота')\n",
        "plt.tight_layout()\n",
        "plt.show()"
      ]
    },
    {
      "cell_type": "markdown",
      "metadata": {
        "id": "rCHplr_c8TpR"
      },
      "source": [
        "Теперь скошенность находится в хорошем состоянии. Нет явных выбросов.\n"
      ]
    },
    {
      "cell_type": "markdown",
      "metadata": {
        "id": "Pa0ZcZzstDzt"
      },
      "source": [
        "Трансформация свойств - X."
      ]
    },
    {
      "cell_type": "code",
      "execution_count": 55,
      "metadata": {
        "id": "QzoEK7ex9kBk"
      },
      "outputs": [],
      "source": [
        "from sklearn.preprocessing import StandardScaler\n",
        "\n",
        "transform_features = ['Length', 'Shell weight']\n",
        "\n",
        "X_train_transform = X_linear_train[transform_features]\n",
        "X_test_transform = X_linear_test[transform_features]\n",
        "\n",
        "pt_X_linear = PowerTransformer(method='yeo-johnson')\n",
        "X_train_transformed = pt_X_linear.fit_transform(X_train_transform)\n",
        "X_test_transformed = pt_X_linear.transform(X_test_transform)\n",
        "\n",
        "X_linear_train_transformed = pd.DataFrame(\n",
        "    X_train_transformed,\n",
        "    columns=transform_features,\n",
        "    index=X_linear_train.index\n",
        ")\n",
        "X_linear_test_transformed = pd.DataFrame(\n",
        "    X_test_transformed,\n",
        "    columns=transform_features,\n",
        "    index=X_linear_test.index\n",
        ")\n",
        "\n",
        "X_linear_train_transformed = pd.concat([\n",
        "    X_linear_train_transformed,\n",
        "    X_linear_train.drop(columns=transform_features)\n",
        "], axis=1)\n",
        "\n",
        "X_linear_test_transformed = pd.concat([\n",
        "    X_linear_test_transformed,\n",
        "    X_linear_test.drop(columns=transform_features)\n",
        "], axis=1)\n",
        "\n",
        "scaler = StandardScaler()\n",
        "X_linear_train_scaled = scaler.fit_transform(X_linear_train_transformed)\n",
        "X_linear_test_scaled = scaler.transform(X_linear_test_transformed)"
      ]
    },
    {
      "cell_type": "markdown",
      "metadata": {
        "id": "Z9zA3jWutDzt"
      },
      "source": [
        "Проверка свойств X после трансформации."
      ]
    },
    {
      "cell_type": "code",
      "execution_count": 56,
      "metadata": {
        "id": "BBkNLNRQ-W4b",
        "colab": {
          "base_uri": "https://localhost:8080/",
          "height": 1000
        },
        "outputId": "4a04e4d5-0329-4958-8bee-37494892b03d"
      },
      "outputs": [
        {
          "output_type": "display_data",
          "data": {
            "text/plain": [
              "<Figure size 1400x600 with 2 Axes>"
            ],
            "image/png": "[encoded data removed]"
          },
          "metadata": {}
        },
        {
          "output_type": "display_data",
          "data": {
            "text/plain": [
              "<Figure size 1400x600 with 2 Axes>"
            ],
            "image/png": "[encoded data removed]"
          },
          "metadata": {}
        },
        {
          "output_type": "stream",
          "name": "stdout",
          "text": [
            "\n",
            "X_linear_train (после): Length: 2 выбросов (0.1%)\n",
            "Границы: [-2.8670, 2.9027]\n"
          ]
        },
        {
          "output_type": "display_data",
          "data": {
            "text/plain": [
              "<Figure size 800x400 with 1 Axes>"
            ],
            "image/png": "[encoded data removed]"
          },
          "metadata": {}
        },
        {
          "output_type": "stream",
          "name": "stdout",
          "text": [
            "\n",
            "X_linear_train (после): Shell weight: 4 выбросов (0.1%)\n",
            "Границы: [-3.0046, 2.9702]\n"
          ]
        },
        {
          "output_type": "display_data",
          "data": {
            "text/plain": [
              "<Figure size 800x400 with 1 Axes>"
            ],
            "image/png": "[encoded data removed]"
          },
          "metadata": {}
        },
        {
          "output_type": "stream",
          "name": "stdout",
          "text": [
            "\n",
            "X_linear_train (после): Sex_F: 0 выбросов (0.0%)\n",
            "Границы: [-1.5000, 2.5000]\n"
          ]
        },
        {
          "output_type": "display_data",
          "data": {
            "text/plain": [
              "<Figure size 800x400 with 1 Axes>"
            ],
            "image/png": "[encoded data removed]"
          },
          "metadata": {}
        },
        {
          "output_type": "stream",
          "name": "stdout",
          "text": [
            "\n",
            "X_linear_train (после): Sex_I: 0 выбросов (0.0%)\n",
            "Границы: [-1.5000, 2.5000]\n"
          ]
        },
        {
          "output_type": "display_data",
          "data": {
            "text/plain": [
              "<Figure size 800x400 with 1 Axes>"
            ],
            "image/png": "[encoded data removed]"
          },
          "metadata": {}
        },
        {
          "output_type": "stream",
          "name": "stdout",
          "text": [
            "\n",
            "X_linear_train (после): Sex_M: 0 выбросов (0.0%)\n",
            "Границы: [-1.5000, 2.5000]\n"
          ]
        },
        {
          "output_type": "display_data",
          "data": {
            "text/plain": [
              "<Figure size 800x400 with 1 Axes>"
            ],
            "image/png": "[encoded data removed]"
          },
          "metadata": {}
        }
      ],
      "source": [
        "plt.figure(figsize=(14, 6))\n",
        "plt.subplot(1, 2, 1)\n",
        "sns.histplot(X_linear_train['Length'], kde=True, bins=30)\n",
        "plt.title(f'Length BEFORE transform (skew={X_linear_train[\"Length\"].skew():.2f})')\n",
        "\n",
        "plt.subplot(1, 2, 2)\n",
        "sns.histplot(X_linear_train_transformed['Length'], kde=True, bins=30)\n",
        "plt.title(f'Length AFTER transform (skew={X_linear_train_transformed[\"Length\"].skew():.2f})')\n",
        "plt.tight_layout()\n",
        "plt.show()\n",
        "\n",
        "# Визуализация Shell weight\n",
        "plt.figure(figsize=(14, 6))\n",
        "plt.subplot(1, 2, 1)\n",
        "sns.histplot(X_linear_train['Shell weight'], kde=True, bins=30)\n",
        "plt.title(f'Shell weight BEFORE transform (skew={X_linear_train[\"Shell weight\"].skew():.2f})')\n",
        "\n",
        "plt.subplot(1, 2, 2)\n",
        "sns.histplot(X_linear_train_transformed['Shell weight'], kde=True, bins=30)\n",
        "plt.title(f'Shell weight AFTER transform (skew={X_linear_train_transformed[\"Shell weight\"].skew():.2f})')\n",
        "plt.tight_layout()\n",
        "plt.show()\n",
        "\n",
        "check_outliers(X_linear_train_transformed, title=\"X_linear_train (после): \")\n"
      ]
    },
    {
      "cell_type": "markdown",
      "metadata": {
        "id": "2LpumPhfBGFT"
      },
      "source": [
        "#### 1.3.2 Random Forest Regressor\n",
        "\n",
        "**Особенности модели:**\n",
        "\n",
        "* Не чувствительна к масштабу признаков.\n",
        "* Может обрабатывать сильные корреляции между признаками.\n",
        "* Может использовать категориальные признаки, если они закодированы как числовые.\n"
      ]
    },
    {
      "cell_type": "markdown",
      "metadata": {
        "id": "5HF3BAGFCE9O"
      },
      "source": [
        "Сделаем копию датасета"
      ]
    },
    {
      "cell_type": "code",
      "execution_count": 57,
      "metadata": {
        "id": "91HfLSWaCMyh"
      },
      "outputs": [],
      "source": [
        "df_forest = df_encoded.copy()"
      ]
    },
    {
      "cell_type": "markdown",
      "metadata": {
        "id": "YrqF5KjrCUms"
      },
      "source": [
        "Feature engineering"
      ]
    },
    {
      "cell_type": "code",
      "execution_count": 58,
      "metadata": {
        "id": "ZCEraIqwCXRX"
      },
      "outputs": [],
      "source": [
        "df_forest['shell_ratio'] = df_forest['Shell weight'] / df_forest['Whole weight']\n",
        "df_forest['viscera_to_shucked'] = df_forest['Viscera weight'] / df_forest['Shucked weight']\n",
        "\n",
        "df_forest['density'] = df_forest['Whole weight'] / (\n",
        "    df_forest['Length'] * df_forest['Diameter'] * df_forest['Height']\n",
        ").replace(0, np.nan)  # Заменяем 0 на NaN, чтобы избежать деления на ноль\n",
        "df_forest['density'] = df_forest['density'].fillna(0)  # Заменяем NaN на 0\n",
        "\n",
        "df_forest = df_forest.drop(columns=[\n",
        "    'Shell weight',\n",
        "    'Whole weight',\n",
        "    'Viscera weight',\n",
        "    'Shucked weight',\n",
        "    'Length',\n",
        "    'Diameter',\n",
        "    'Height'\n",
        "])"
      ]
    },
    {
      "cell_type": "markdown",
      "metadata": {
        "id": "WOULg6ZWCgO0"
      },
      "source": [
        "Разделение выборки"
      ]
    },
    {
      "cell_type": "code",
      "execution_count": 59,
      "metadata": {
        "id": "y68KgamxCh4S"
      },
      "outputs": [],
      "source": [
        "X_forest = df_forest.drop(columns=['Rings'])  # Признаки (все кроме целевой переменной)\n",
        "y_forest = df_forest['Rings']  # Целевая переменная\n",
        "\n",
        "X_forest_train, X_forest_test, y_forest_train, y_forest_test = train_test_split(\n",
        "    X_forest, y_forest,\n",
        "    test_size=0.2,\n",
        "    random_state=RND_SEED\n",
        ")"
      ]
    },
    {
      "cell_type": "markdown",
      "metadata": {
        "id": "UZyJlzLvC6zq"
      },
      "source": [
        "#### 1.3.3 XGBoost\n",
        "\n",
        "**Особенности модели:**\n",
        "\n",
        "* Градиентный бустинг деревьев.\n",
        "* Не чувствителен к масштабу.\n",
        "* Может обрабатывать коррелированные признаки, но слишком много слабых признаков может замедлить обучение."
      ]
    },
    {
      "cell_type": "markdown",
      "metadata": {
        "id": "-NzeiuD0DT50"
      },
      "source": [
        "Сделаем копию датасета"
      ]
    },
    {
      "cell_type": "code",
      "execution_count": 60,
      "metadata": {
        "id": "lGHKTS_1DaF9"
      },
      "outputs": [],
      "source": [
        "df_xgboost = df_encoded.copy()"
      ]
    },
    {
      "cell_type": "markdown",
      "metadata": {
        "id": "P508enF6DjF4"
      },
      "source": [
        "Feature engineering"
      ]
    },
    {
      "cell_type": "code",
      "execution_count": 61,
      "metadata": {
        "id": "ZjB83JZRDiNz"
      },
      "outputs": [],
      "source": [
        "df_xgboost['shell_ratio'] = df_xgboost['Shell weight'] / df_xgboost['Whole weight']\n",
        "df_xgboost['viscera_to_shucked'] = df_xgboost['Viscera weight'] / df_xgboost['Shucked weight']\n",
        "\n",
        "volume = df_xgboost['Length'] * df_xgboost['Diameter'] * df_xgboost['Height']\n",
        "df_xgboost['density'] = df_xgboost['Whole weight'] / volume.replace(0, np.nan)\n",
        "df_xgboost['density'] = df_xgboost['density'].fillna(0)\n",
        "\n",
        "df_xgboost['length_to_diameter'] = df_xgboost['Length'] / df_xgboost['Diameter']\n",
        "df_xgboost['shucked_to_shell'] = df_xgboost['Shucked weight'] / df_xgboost['Shell weight']"
      ]
    },
    {
      "cell_type": "markdown",
      "metadata": {
        "id": "qtppWIc5Dzw4"
      },
      "source": [
        "Разделение выборки"
      ]
    },
    {
      "cell_type": "code",
      "execution_count": 62,
      "metadata": {
        "id": "olxuyViVD2L1"
      },
      "outputs": [],
      "source": [
        "from sklearn.model_selection import train_test_split\n",
        "\n",
        "X_xgboost = df_xgboost.drop('Rings', axis=1)\n",
        "y_xgboost = df_xgboost['Rings']\n",
        "\n",
        "X_xgboost_train, X_xgboost_test, y_xgboost_train, y_xgboost_test = train_test_split(\n",
        "    X_xgboost, y_xgboost,\n",
        "    test_size=0.2,\n",
        "    random_state=RND_SEED\n",
        ")\n"
      ]
    },
    {
      "cell_type": "markdown",
      "metadata": {
        "id": "64U5EhUNE00s"
      },
      "source": [
        "## 2. Создание метрик\n",
        "\n",
        "1. **MSE (Mean Squared Error)** – средняя квадратичная ошибка:\n",
        "\n",
        "$$\n",
        "\\text{MSE} = \\frac{1}{n} \\sum_{i=1}^{n} (y_i - \\hat{y}_i)^2\n",
        "$$\n",
        "\n",
        "* Чем меньше, тем лучше.\n",
        "* Чувствительна к выбросам (квадрат ошибки усиливает влияние больших отклонений).\n",
        "\n",
        "2. **RMSE (Root Mean Squared Error)** – корень из MSE:\n",
        "\n",
        "$$\n",
        "\\text{RMSE} = \\sqrt{\\text{MSE}}\n",
        "$$\n",
        "\n",
        "* В тех же единицах, что и целевая переменная.\n",
        "* Легче интерпретировать.\n",
        "\n",
        "3. **MAE (Mean Absolute Error)** – средняя абсолютная ошибка:\n",
        "\n",
        "$$\n",
        "\\text{MAE} = \\frac{1}{n} \\sum_{i=1}^{n} |y_i - \\hat{y}_i|\n",
        "$$\n",
        "\n",
        "* Менее чувствительна к выбросам, показывает «среднюю ошибку» в исходных единицах.\n",
        "\n",
        "4. **R² (коэффициент детерминации)**:\n",
        "\n",
        "$$\n",
        "R^2 = 1 - \\frac{\\sum (y_i - \\hat{y}_i)^2}{\\sum (y_i - \\bar{y})^2}\n",
        "$$\n",
        "\n",
        "* 1 → идеальное предсказание, 0 → модель не лучше среднего, <0 → хуже среднего.\n",
        "\n",
        "**Как интерпретировать**\n",
        "\n",
        "| Метрика | Как читать                    | Что значит для анализа                                                   |\n",
        "| ------- | ----------------------------- | ------------------------------------------------------------------------ |\n",
        "| MSE     | Чем меньше, тем точнее        | Показывает среднюю квадратичную ошибку. Выбросы сильно влияют.           |\n",
        "| RMSE    | В тех же единицах, что и цель | Удобно для прямой интерпретации ошибок.                                  |\n",
        "| MAE     | Средняя абсолютная ошибка     | Устойчивее к выбросам, показывает среднюю фактическую ошибку.            |\n",
        "| R²      | 0–1 (или <0)                  | 1 — идеальное совпадение, 0 — предсказывает среднее, <0 — хуже среднего. |\n",
        "\n",
        "**Пример анализа:**\n",
        "\n",
        "* Если RMSE и MAE сильно отличаются → есть выбросы.\n",
        "* Если R² близок к 1 → модель хорошо объясняет вариацию данных.\n",
        "* Можно сравнивать модели: линейная, RF, XGBoost. Та, у которой меньше RMSE/MAE и выше R² — более точная.\n"
      ]
    },
    {
      "cell_type": "code",
      "execution_count": 63,
      "metadata": {
        "id": "t2RZ0UGIFqoy"
      },
      "outputs": [],
      "source": [
        "def mse(y_true, y_pred):\n",
        "    return np.mean((y_true - y_pred) ** 2)\n",
        "\n",
        "def rmse(y_true, y_pred):\n",
        "    return np.sqrt(mse(y_true, y_pred))\n",
        "\n",
        "def mae(y_true, y_pred):\n",
        "    return np.mean(np.abs(y_true - y_pred))\n",
        "\n",
        "def r2(y_true, y_pred):\n",
        "    return 1 - (np.sum((y_true - y_pred) ** 2) / np.sum((y_true - np.mean(y_true)) ** 2))\n",
        "\n",
        "def get_metrics(y_true, y_pred):\n",
        "    return {\n",
        "        'MSE': mse(y_true, y_pred),\n",
        "        'RMSE': rmse(y_true, y_pred),\n",
        "        'MAE': mae(y_true, y_pred),\n",
        "        'R2': r2(y_true, y_pred)\n",
        "    }\n"
      ]
    },
    {
      "cell_type": "markdown",
      "metadata": {
        "id": "KX0RJ_ZyHSx-"
      },
      "source": [
        "Прежде чем начнем обучать, создадим `DataFrame` для снятия метрик"
      ]
    },
    {
      "cell_type": "code",
      "execution_count": 64,
      "metadata": {
        "id": "ccDTCm7eJFuI",
        "colab": {
          "base_uri": "https://localhost:8080/",
          "height": 53
        },
        "outputId": "982f5a50-26f8-497e-faac-6bda2f1c0cba"
      },
      "outputs": [
        {
          "output_type": "execute_result",
          "data": {
            "text/plain": [
              "Empty DataFrame\n",
              "Columns: [Model, MSE, RMSE, MAE, R²]\n",
              "Index: []"
            ],
            "text/html": [
              "\n",
              "  <div id=\"df-51be7ff3-716f-4e70-b31e-1b9551f26780\" class=\"colab-df-container\">\n",
              "    <div>\n",
              "<style scoped>\n",
              "    .dataframe tbody tr th:only-of-type {\n",
              "        vertical-align: middle;\n",
              "    }\n",
              "\n",
              "    .dataframe tbody tr th {\n",
              "        vertical-align: top;\n",
              "    }\n",
              "\n",
              "    .dataframe thead th {\n",
              "        text-align: right;\n",
              "    }\n",
              "</style>\n",
              "<table border=\"1\" class=\"dataframe\">\n",
              "  <thead>\n",
              "    <tr style=\"text-align: right;\">\n",
              "      <th></th>\n",
              "      <th>Model</th>\n",
              "      <th>MSE</th>\n",
              "      <th>RMSE</th>\n",
              "      <th>MAE</th>\n",
              "      <th>R²</th>\n",
              "    </tr>\n",
              "  </thead>\n",
              "  <tbody>\n",
              "  </tbody>\n",
              "</table>\n",
              "</div>\n",
              "    <div class=\"colab-df-buttons\">\n",
              "\n",
              "  <div class=\"colab-df-container\">\n",
              "    <button class=\"colab-df-convert\" onclick=\"convertToInteractive('df-51be7ff3-716f-4e70-b31e-1b9551f26780')\"\n",
              "            title=\"Convert this dataframe to an interactive table.\"\n",
              "            style=\"display:none;\">\n",
              "\n",
              "  <svg xmlns=\"http://www.w3.org/2000/svg\" height=\"24px\" viewBox=\"0 -960 960 960\">\n",
              "    <path d=\"M120-120v-720h720v720H120Zm60-500h600v-160H180v160Zm220 220h160v-160H400v160Zm0 220h160v-160H400v160ZM180-400h160v-160H180v160Zm440 0h160v-160H620v160ZM180-180h160v-160H180v160Zm440 0h160v-160H620v160Z\"/>\n",
              "  </svg>\n",
              "    </button>\n",
              "\n",
              "  <style>\n",
              "    .colab-df-container {\n",
              "      display:flex;\n",
              "      gap: 12px;\n",
              "    }\n",
              "\n",
              "    .colab-df-convert {\n",
              "      background-color: #E8F0FE;\n",
              "      border: none;\n",
              "      border-radius: 50%;\n",
              "      cursor: pointer;\n",
              "      display: none;\n",
              "      fill: #1967D2;\n",
              "      height: 32px;\n",
              "      padding: 0 0 0 0;\n",
              "      width: 32px;\n",
              "    }\n",
              "\n",
              "    .colab-df-convert:hover {\n",
              "      background-color: #E2EBFA;\n",
              "      box-shadow: 0px 1px 2px rgba(60, 64, 67, 0.3), 0px 1px 3px 1px rgba(60, 64, 67, 0.15);\n",
              "      fill: #174EA6;\n",
              "    }\n",
              "\n",
              "    .colab-df-buttons div {\n",
              "      margin-bottom: 4px;\n",
              "    }\n",
              "\n",
              "    [theme=dark] .colab-df-convert {\n",
              "      background-color: #3B4455;\n",
              "      fill: #D2E3FC;\n",
              "    }\n",
              "\n",
              "    [theme=dark] .colab-df-convert:hover {\n",
              "      background-color: #434B5C;\n",
              "      box-shadow: 0px 1px 3px 1px rgba(0, 0, 0, 0.15);\n",
              "      filter: drop-shadow(0px 1px 2px rgba(0, 0, 0, 0.3));\n",
              "      fill: #FFFFFF;\n",
              "    }\n",
              "  </style>\n",
              "\n",
              "    <script>\n",
              "      const buttonEl =\n",
              "        document.querySelector('#df-51be7ff3-716f-4e70-b31e-1b9551f26780 button.colab-df-convert');\n",
              "      buttonEl.style.display =\n",
              "        google.colab.kernel.accessAllowed ? 'block' : 'none';\n",
              "\n",
              "      async function convertToInteractive(key) {\n",
              "        const element = document.querySelector('#df-51be7ff3-716f-4e70-b31e-1b9551f26780');\n",
              "        const dataTable =\n",
              "          await google.colab.kernel.invokeFunction('convertToInteractive',\n",
              "                                                    [key], {});\n",
              "        if (!dataTable) return;\n",
              "\n",
              "        const docLinkHtml = 'Like what you see? Visit the ' +\n",
              "          '<a target=\"_blank\" href=https://colab.research.google.com/notebooks/data_table.ipynb>data table notebook</a>'\n",
              "          + ' to learn more about interactive tables.';\n",
              "        element.innerHTML = '';\n",
              "        dataTable['output_type'] = 'display_data';\n",
              "        await google.colab.output.renderOutput(dataTable, element);\n",
              "        const docLink = document.createElement('div');\n",
              "        docLink.innerHTML = docLinkHtml;\n",
              "        element.appendChild(docLink);\n",
              "      }\n",
              "    </script>\n",
              "  </div>\n",
              "\n",
              "    </div>\n",
              "  </div>\n"
            ],
            "application/vnd.google.colaboratory.intrinsic+json": {
              "type": "dataframe",
              "variable_name": "metrics_df",
              "repr_error": "Out of range float values are not JSON compliant: nan"
            }
          },
          "metadata": {},
          "execution_count": 64
        }
      ],
      "source": [
        "metrics_df = pd.DataFrame(columns=['Model', 'MSE', 'RMSE', 'MAE', 'R²'])\n",
        "\n",
        "metrics_df.head()"
      ]
    },
    {
      "cell_type": "markdown",
      "metadata": {
        "id": "jKowHM81GEIF"
      },
      "source": [
        "## 3. Базовая модель линейной регрессии (аналитическое решение)"
      ]
    },
    {
      "cell_type": "code",
      "execution_count": 65,
      "metadata": {
        "id": "g6AsZHA3Hfwn"
      },
      "outputs": [],
      "source": [
        "# Создание линейной модели\n",
        "from sklearn.linear_model import LinearRegression\n",
        "lr = LinearRegression()"
      ]
    },
    {
      "cell_type": "code",
      "execution_count": 69,
      "metadata": {
        "colab": {
          "base_uri": "https://localhost:8080/",
          "height": 80
        },
        "id": "HR9jUj_kJJcq",
        "outputId": "3baa3466-d3b2-431c-f597-4821a1cf1efa"
      },
      "outputs": [
        {
          "output_type": "execute_result",
          "data": {
            "text/plain": [
              "LinearRegression()"
            ],
            "text/html": [
              "<style>#sk-container-id-1 {\n",
              "  /* Definition of color scheme common for light and dark mode */\n",
              "  --sklearn-color-text: #000;\n",
              "  --sklearn-color-text-muted: #666;\n",
              "  --sklearn-color-line: gray;\n",
              "  /* Definition of color scheme for unfitted estimators */\n",
              "  --sklearn-color-unfitted-level-0: #fff5e6;\n",
              "  --sklearn-color-unfitted-level-1: #f6e4d2;\n",
              "  --sklearn-color-unfitted-level-2: #ffe0b3;\n",
              "  --sklearn-color-unfitted-level-3: chocolate;\n",
              "  /* Definition of color scheme for fitted estimators */\n",
              "  --sklearn-color-fitted-level-0: #f0f8ff;\n",
              "  --sklearn-color-fitted-level-1: #d4ebff;\n",
              "  --sklearn-color-fitted-level-2: #b3dbfd;\n",
              "  --sklearn-color-fitted-level-3: cornflowerblue;\n",
              "\n",
              "  /* Specific color for light theme */\n",
              "  --sklearn-color-text-on-default-background: var(--sg-text-color, var(--theme-code-foreground, var(--jp-content-font-color1, black)));\n",
              "  --sklearn-color-background: var(--sg-background-color, var(--theme-background, var(--jp-layout-color0, white)));\n",
              "  --sklearn-color-border-box: var(--sg-text-color, var(--theme-code-foreground, var(--jp-content-font-color1, black)));\n",
              "  --sklearn-color-icon: #696969;\n",
              "\n",
              "  @media (prefers-color-scheme: dark) {\n",
              "    /* Redefinition of color scheme for dark theme */\n",
              "    --sklearn-color-text-on-default-background: var(--sg-text-color, var(--theme-code-foreground, var(--jp-content-font-color1, white)));\n",
              "    --sklearn-color-background: var(--sg-background-color, var(--theme-background, var(--jp-layout-color0, #111)));\n",
              "    --sklearn-color-border-box: var(--sg-text-color, var(--theme-code-foreground, var(--jp-content-font-color1, white)));\n",
              "    --sklearn-color-icon: #878787;\n",
              "  }\n",
              "}\n",
              "\n",
              "#sk-container-id-1 {\n",
              "  color: var(--sklearn-color-text);\n",
              "}\n",
              "\n",
              "#sk-container-id-1 pre {\n",
              "  padding: 0;\n",
              "}\n",
              "\n",
              "#sk-container-id-1 input.sk-hidden--visually {\n",
              "  border: 0;\n",
              "  clip: rect(1px 1px 1px 1px);\n",
              "  clip: rect(1px, 1px, 1px, 1px);\n",
              "  height: 1px;\n",
              "  margin: -1px;\n",
              "  overflow: hidden;\n",
              "  padding: 0;\n",
              "  position: absolute;\n",
              "  width: 1px;\n",
              "}\n",
              "\n",
              "#sk-container-id-1 div.sk-dashed-wrapped {\n",
              "  border: 1px dashed var(--sklearn-color-line);\n",
              "  margin: 0 0.4em 0.5em 0.4em;\n",
              "  box-sizing: border-box;\n",
              "  padding-bottom: 0.4em;\n",
              "  background-color: var(--sklearn-color-background);\n",
              "}\n",
              "\n",
              "#sk-container-id-1 div.sk-container {\n",
              "  /* jupyter's `normalize.less` sets `[hidden] { display: none; }`\n",
              "     but bootstrap.min.css set `[hidden] { display: none !important; }`\n",
              "     so we also need the `!important` here to be able to override the\n",
              "     default hidden behavior on the sphinx rendered scikit-learn.org.\n",
              "     See: https://github.com/scikit-learn/scikit-learn/issues/21755 */\n",
              "  display: inline-block !important;\n",
              "  position: relative;\n",
              "}\n",
              "\n",
              "#sk-container-id-1 div.sk-text-repr-fallback {\n",
              "  display: none;\n",
              "}\n",
              "\n",
              "div.sk-parallel-item,\n",
              "div.sk-serial,\n",
              "div.sk-item {\n",
              "  /* draw centered vertical line to link estimators */\n",
              "  background-image: linear-gradient(var(--sklearn-color-text-on-default-background), var(--sklearn-color-text-on-default-background));\n",
              "  background-size: 2px 100%;\n",
              "  background-repeat: no-repeat;\n",
              "  background-position: center center;\n",
              "}\n",
              "\n",
              "/* Parallel-specific style estimator block */\n",
              "\n",
              "#sk-container-id-1 div.sk-parallel-item::after {\n",
              "  content: \"\";\n",
              "  width: 100%;\n",
              "  border-bottom: 2px solid var(--sklearn-color-text-on-default-background);\n",
              "  flex-grow: 1;\n",
              "}\n",
              "\n",
              "#sk-container-id-1 div.sk-parallel {\n",
              "  display: flex;\n",
              "  align-items: stretch;\n",
              "  justify-content: center;\n",
              "  background-color: var(--sklearn-color-background);\n",
              "  position: relative;\n",
              "}\n",
              "\n",
              "#sk-container-id-1 div.sk-parallel-item {\n",
              "  display: flex;\n",
              "  flex-direction: column;\n",
              "}\n",
              "\n",
              "#sk-container-id-1 div.sk-parallel-item:first-child::after {\n",
              "  align-self: flex-end;\n",
              "  width: 50%;\n",
              "}\n",
              "\n",
              "#sk-container-id-1 div.sk-parallel-item:last-child::after {\n",
              "  align-self: flex-start;\n",
              "  width: 50%;\n",
              "}\n",
              "\n",
              "#sk-container-id-1 div.sk-parallel-item:only-child::after {\n",
              "  width: 0;\n",
              "}\n",
              "\n",
              "/* Serial-specific style estimator block */\n",
              "\n",
              "#sk-container-id-1 div.sk-serial {\n",
              "  display: flex;\n",
              "  flex-direction: column;\n",
              "  align-items: center;\n",
              "  background-color: var(--sklearn-color-background);\n",
              "  padding-right: 1em;\n",
              "  padding-left: 1em;\n",
              "}\n",
              "\n",
              "\n",
              "/* Toggleable style: style used for estimator/Pipeline/ColumnTransformer box that is\n",
              "clickable and can be expanded/collapsed.\n",
              "- Pipeline and ColumnTransformer use this feature and define the default style\n",
              "- Estimators will overwrite some part of the style using the `sk-estimator` class\n",
              "*/\n",
              "\n",
              "/* Pipeline and ColumnTransformer style (default) */\n",
              "\n",
              "#sk-container-id-1 div.sk-toggleable {\n",
              "  /* Default theme specific background. It is overwritten whether we have a\n",
              "  specific estimator or a Pipeline/ColumnTransformer */\n",
              "  background-color: var(--sklearn-color-background);\n",
              "}\n",
              "\n",
              "/* Toggleable label */\n",
              "#sk-container-id-1 label.sk-toggleable__label {\n",
              "  cursor: pointer;\n",
              "  display: flex;\n",
              "  width: 100%;\n",
              "  margin-bottom: 0;\n",
              "  padding: 0.5em;\n",
              "  box-sizing: border-box;\n",
              "  text-align: center;\n",
              "  align-items: start;\n",
              "  justify-content: space-between;\n",
              "  gap: 0.5em;\n",
              "}\n",
              "\n",
              "#sk-container-id-1 label.sk-toggleable__label .caption {\n",
              "  font-size: 0.6rem;\n",
              "  font-weight: lighter;\n",
              "  color: var(--sklearn-color-text-muted);\n",
              "}\n",
              "\n",
              "#sk-container-id-1 label.sk-toggleable__label-arrow:before {\n",
              "  /* Arrow on the left of the label */\n",
              "  content: \"▸\";\n",
              "  float: left;\n",
              "  margin-right: 0.25em;\n",
              "  color: var(--sklearn-color-icon);\n",
              "}\n",
              "\n",
              "#sk-container-id-1 label.sk-toggleable__label-arrow:hover:before {\n",
              "  color: var(--sklearn-color-text);\n",
              "}\n",
              "\n",
              "/* Toggleable content - dropdown */\n",
              "\n",
              "#sk-container-id-1 div.sk-toggleable__content {\n",
              "  max-height: 0;\n",
              "  max-width: 0;\n",
              "  overflow: hidden;\n",
              "  text-align: left;\n",
              "  /* unfitted */\n",
              "  background-color: var(--sklearn-color-unfitted-level-0);\n",
              "}\n",
              "\n",
              "#sk-container-id-1 div.sk-toggleable__content.fitted {\n",
              "  /* fitted */\n",
              "  background-color: var(--sklearn-color-fitted-level-0);\n",
              "}\n",
              "\n",
              "#sk-container-id-1 div.sk-toggleable__content pre {\n",
              "  margin: 0.2em;\n",
              "  border-radius: 0.25em;\n",
              "  color: var(--sklearn-color-text);\n",
              "  /* unfitted */\n",
              "  background-color: var(--sklearn-color-unfitted-level-0);\n",
              "}\n",
              "\n",
              "#sk-container-id-1 div.sk-toggleable__content.fitted pre {\n",
              "  /* unfitted */\n",
              "  background-color: var(--sklearn-color-fitted-level-0);\n",
              "}\n",
              "\n",
              "#sk-container-id-1 input.sk-toggleable__control:checked~div.sk-toggleable__content {\n",
              "  /* Expand drop-down */\n",
              "  max-height: 200px;\n",
              "  max-width: 100%;\n",
              "  overflow: auto;\n",
              "}\n",
              "\n",
              "#sk-container-id-1 input.sk-toggleable__control:checked~label.sk-toggleable__label-arrow:before {\n",
              "  content: \"▾\";\n",
              "}\n",
              "\n",
              "/* Pipeline/ColumnTransformer-specific style */\n",
              "\n",
              "#sk-container-id-1 div.sk-label input.sk-toggleable__control:checked~label.sk-toggleable__label {\n",
              "  color: var(--sklearn-color-text);\n",
              "  background-color: var(--sklearn-color-unfitted-level-2);\n",
              "}\n",
              "\n",
              "#sk-container-id-1 div.sk-label.fitted input.sk-toggleable__control:checked~label.sk-toggleable__label {\n",
              "  background-color: var(--sklearn-color-fitted-level-2);\n",
              "}\n",
              "\n",
              "/* Estimator-specific style */\n",
              "\n",
              "/* Colorize estimator box */\n",
              "#sk-container-id-1 div.sk-estimator input.sk-toggleable__control:checked~label.sk-toggleable__label {\n",
              "  /* unfitted */\n",
              "  background-color: var(--sklearn-color-unfitted-level-2);\n",
              "}\n",
              "\n",
              "#sk-container-id-1 div.sk-estimator.fitted input.sk-toggleable__control:checked~label.sk-toggleable__label {\n",
              "  /* fitted */\n",
              "  background-color: var(--sklearn-color-fitted-level-2);\n",
              "}\n",
              "\n",
              "#sk-container-id-1 div.sk-label label.sk-toggleable__label,\n",
              "#sk-container-id-1 div.sk-label label {\n",
              "  /* The background is the default theme color */\n",
              "  color: var(--sklearn-color-text-on-default-background);\n",
              "}\n",
              "\n",
              "/* On hover, darken the color of the background */\n",
              "#sk-container-id-1 div.sk-label:hover label.sk-toggleable__label {\n",
              "  color: var(--sklearn-color-text);\n",
              "  background-color: var(--sklearn-color-unfitted-level-2);\n",
              "}\n",
              "\n",
              "/* Label box, darken color on hover, fitted */\n",
              "#sk-container-id-1 div.sk-label.fitted:hover label.sk-toggleable__label.fitted {\n",
              "  color: var(--sklearn-color-text);\n",
              "  background-color: var(--sklearn-color-fitted-level-2);\n",
              "}\n",
              "\n",
              "/* Estimator label */\n",
              "\n",
              "#sk-container-id-1 div.sk-label label {\n",
              "  font-family: monospace;\n",
              "  font-weight: bold;\n",
              "  display: inline-block;\n",
              "  line-height: 1.2em;\n",
              "}\n",
              "\n",
              "#sk-container-id-1 div.sk-label-container {\n",
              "  text-align: center;\n",
              "}\n",
              "\n",
              "/* Estimator-specific */\n",
              "#sk-container-id-1 div.sk-estimator {\n",
              "  font-family: monospace;\n",
              "  border: 1px dotted var(--sklearn-color-border-box);\n",
              "  border-radius: 0.25em;\n",
              "  box-sizing: border-box;\n",
              "  margin-bottom: 0.5em;\n",
              "  /* unfitted */\n",
              "  background-color: var(--sklearn-color-unfitted-level-0);\n",
              "}\n",
              "\n",
              "#sk-container-id-1 div.sk-estimator.fitted {\n",
              "  /* fitted */\n",
              "  background-color: var(--sklearn-color-fitted-level-0);\n",
              "}\n",
              "\n",
              "/* on hover */\n",
              "#sk-container-id-1 div.sk-estimator:hover {\n",
              "  /* unfitted */\n",
              "  background-color: var(--sklearn-color-unfitted-level-2);\n",
              "}\n",
              "\n",
              "#sk-container-id-1 div.sk-estimator.fitted:hover {\n",
              "  /* fitted */\n",
              "  background-color: var(--sklearn-color-fitted-level-2);\n",
              "}\n",
              "\n",
              "/* Specification for estimator info (e.g. \"i\" and \"?\") */\n",
              "\n",
              "/* Common style for \"i\" and \"?\" */\n",
              "\n",
              ".sk-estimator-doc-link,\n",
              "a:link.sk-estimator-doc-link,\n",
              "a:visited.sk-estimator-doc-link {\n",
              "  float: right;\n",
              "  font-size: smaller;\n",
              "  line-height: 1em;\n",
              "  font-family: monospace;\n",
              "  background-color: var(--sklearn-color-background);\n",
              "  border-radius: 1em;\n",
              "  height: 1em;\n",
              "  width: 1em;\n",
              "  text-decoration: none !important;\n",
              "  margin-left: 0.5em;\n",
              "  text-align: center;\n",
              "  /* unfitted */\n",
              "  border: var(--sklearn-color-unfitted-level-1) 1pt solid;\n",
              "  color: var(--sklearn-color-unfitted-level-1);\n",
              "}\n",
              "\n",
              ".sk-estimator-doc-link.fitted,\n",
              "a:link.sk-estimator-doc-link.fitted,\n",
              "a:visited.sk-estimator-doc-link.fitted {\n",
              "  /* fitted */\n",
              "  border: var(--sklearn-color-fitted-level-1) 1pt solid;\n",
              "  color: var(--sklearn-color-fitted-level-1);\n",
              "}\n",
              "\n",
              "/* On hover */\n",
              "div.sk-estimator:hover .sk-estimator-doc-link:hover,\n",
              ".sk-estimator-doc-link:hover,\n",
              "div.sk-label-container:hover .sk-estimator-doc-link:hover,\n",
              ".sk-estimator-doc-link:hover {\n",
              "  /* unfitted */\n",
              "  background-color: var(--sklearn-color-unfitted-level-3);\n",
              "  color: var(--sklearn-color-background);\n",
              "  text-decoration: none;\n",
              "}\n",
              "\n",
              "div.sk-estimator.fitted:hover .sk-estimator-doc-link.fitted:hover,\n",
              ".sk-estimator-doc-link.fitted:hover,\n",
              "div.sk-label-container:hover .sk-estimator-doc-link.fitted:hover,\n",
              ".sk-estimator-doc-link.fitted:hover {\n",
              "  /* fitted */\n",
              "  background-color: var(--sklearn-color-fitted-level-3);\n",
              "  color: var(--sklearn-color-background);\n",
              "  text-decoration: none;\n",
              "}\n",
              "\n",
              "/* Span, style for the box shown on hovering the info icon */\n",
              ".sk-estimator-doc-link span {\n",
              "  display: none;\n",
              "  z-index: 9999;\n",
              "  position: relative;\n",
              "  font-weight: normal;\n",
              "  right: .2ex;\n",
              "  padding: .5ex;\n",
              "  margin: .5ex;\n",
              "  width: min-content;\n",
              "  min-width: 20ex;\n",
              "  max-width: 50ex;\n",
              "  color: var(--sklearn-color-text);\n",
              "  box-shadow: 2pt 2pt 4pt #999;\n",
              "  /* unfitted */\n",
              "  background: var(--sklearn-color-unfitted-level-0);\n",
              "  border: .5pt solid var(--sklearn-color-unfitted-level-3);\n",
              "}\n",
              "\n",
              ".sk-estimator-doc-link.fitted span {\n",
              "  /* fitted */\n",
              "  background: var(--sklearn-color-fitted-level-0);\n",
              "  border: var(--sklearn-color-fitted-level-3);\n",
              "}\n",
              "\n",
              ".sk-estimator-doc-link:hover span {\n",
              "  display: block;\n",
              "}\n",
              "\n",
              "/* \"?\"-specific style due to the `<a>` HTML tag */\n",
              "\n",
              "#sk-container-id-1 a.estimator_doc_link {\n",
              "  float: right;\n",
              "  font-size: 1rem;\n",
              "  line-height: 1em;\n",
              "  font-family: monospace;\n",
              "  background-color: var(--sklearn-color-background);\n",
              "  border-radius: 1rem;\n",
              "  height: 1rem;\n",
              "  width: 1rem;\n",
              "  text-decoration: none;\n",
              "  /* unfitted */\n",
              "  color: var(--sklearn-color-unfitted-level-1);\n",
              "  border: var(--sklearn-color-unfitted-level-1) 1pt solid;\n",
              "}\n",
              "\n",
              "#sk-container-id-1 a.estimator_doc_link.fitted {\n",
              "  /* fitted */\n",
              "  border: var(--sklearn-color-fitted-level-1) 1pt solid;\n",
              "  color: var(--sklearn-color-fitted-level-1);\n",
              "}\n",
              "\n",
              "/* On hover */\n",
              "#sk-container-id-1 a.estimator_doc_link:hover {\n",
              "  /* unfitted */\n",
              "  background-color: var(--sklearn-color-unfitted-level-3);\n",
              "  color: var(--sklearn-color-background);\n",
              "  text-decoration: none;\n",
              "}\n",
              "\n",
              "#sk-container-id-1 a.estimator_doc_link.fitted:hover {\n",
              "  /* fitted */\n",
              "  background-color: var(--sklearn-color-fitted-level-3);\n",
              "}\n",
              "</style><div id=\"sk-container-id-1\" class=\"sk-top-container\"><div class=\"sk-text-repr-fallback\"><pre>LinearRegression()</pre><b>In a Jupyter environment, please rerun this cell to show the HTML representation or trust the notebook. <br />On GitHub, the HTML representation is unable to render, please try loading this page with nbviewer.org.</b></div><div class=\"sk-container\" hidden><div class=\"sk-item\"><div class=\"sk-estimator fitted sk-toggleable\"><input class=\"sk-toggleable__control sk-hidden--visually\" id=\"sk-estimator-id-1\" type=\"checkbox\" checked><label for=\"sk-estimator-id-1\" class=\"sk-toggleable__label fitted sk-toggleable__label-arrow\"><div><div>LinearRegression</div></div><div><a class=\"sk-estimator-doc-link fitted\" rel=\"noreferrer\" target=\"_blank\" href=\"https://scikit-learn.org/1.6/modules/generated/sklearn.linear_model.LinearRegression.html\">?<span>Documentation for LinearRegression</span></a><span class=\"sk-estimator-doc-link fitted\">i<span>Fitted</span></span></div></label><div class=\"sk-toggleable__content fitted\"><pre>LinearRegression()</pre></div> </div></div></div></div>"
            ]
          },
          "metadata": {},
          "execution_count": 69
        }
      ],
      "source": [
        "# Обучение\n",
        "lr.fit(X_linear_train_scaled, Y_linear_train)"
      ]
    },
    {
      "cell_type": "code",
      "execution_count": 70,
      "metadata": {
        "colab": {
          "base_uri": "https://localhost:8080/"
        },
        "id": "6Ds0XAVuGp2o",
        "outputId": "a70cf4f1-67c1-4071-b235-b4cb8a8957f1"
      },
      "outputs": [
        {
          "output_type": "execute_result",
          "data": {
            "text/plain": [
              "{'MSE': np.float64(5.406589590209664),\n",
              " 'RMSE': np.float64(2.3252074295016487),\n",
              " 'MAE': np.float64(1.676156771163286),\n",
              " 'R2': np.float64(0.45693378850003585)}"
            ]
          },
          "metadata": {},
          "execution_count": 70
        }
      ],
      "source": [
        "# Прогонка и метрики\n",
        "y_pred = lr.predict(X_linear_train_scaled)\n",
        "lr_metrics = get_metrics(Y_linear_train, y_pred)\n",
        "lr_metrics"
      ]
    },
    {
      "cell_type": "markdown",
      "metadata": {
        "id": "FQTAck1cJ-UV"
      },
      "source": [
        "## 4. Улучшенная версия линейной регрессии"
      ]
    },
    {
      "cell_type": "code",
      "execution_count": 71,
      "metadata": {
        "id": "g9IXovgjK96B"
      },
      "outputs": [],
      "source": [
        "from sklearn.linear_model import SGDRegressor"
      ]
    },
    {
      "cell_type": "markdown",
      "metadata": {
        "id": "NxwqJaZcKEy5"
      },
      "source": [
        "### 4.1. Градиентный спуск (симуляция)"
      ]
    },
    {
      "cell_type": "code",
      "execution_count": 72,
      "metadata": {
        "id": "puI0wEHuKjEC"
      },
      "outputs": [],
      "source": [
        "# Создание линейной модели градиентного спуска\n",
        "lr_gd = SGDRegressor(\n",
        "    max_iter=2000,               # максимум итераций\n",
        "    tol=1e-6,                    # остановка, когда улучшение < tol\n",
        "    learning_rate='constant',  # тип изменения шага\n",
        "    eta0=0.01,                   # стартовый шаг\n",
        "    penalty='l2',                # регуляризация L2 (Ridge)\n",
        "    shuffle=False,               # важный момент: не перемешиваем данные, чтобы был настоящий GD\n",
        "    random_state=RND_SEED\n",
        ")"
      ]
    },
    {
      "cell_type": "code",
      "execution_count": 73,
      "metadata": {
        "colab": {
          "base_uri": "https://localhost:8080/",
          "height": 98
        },
        "id": "iZfW3Nx-K8Cy",
        "outputId": "f2473485-3529-4519-ab4e-ecccf320de30"
      },
      "outputs": [
        {
          "output_type": "execute_result",
          "data": {
            "text/plain": [
              "SGDRegressor(learning_rate='constant', max_iter=2000, random_state=21,\n",
              "             shuffle=False, tol=1e-06)"
            ],
            "text/html": [
              "<style>#sk-container-id-2 {\n",
              "  /* Definition of color scheme common for light and dark mode */\n",
              "  --sklearn-color-text: #000;\n",
              "  --sklearn-color-text-muted: #666;\n",
              "  --sklearn-color-line: gray;\n",
              "  /* Definition of color scheme for unfitted estimators */\n",
              "  --sklearn-color-unfitted-level-0: #fff5e6;\n",
              "  --sklearn-color-unfitted-level-1: #f6e4d2;\n",
              "  --sklearn-color-unfitted-level-2: #ffe0b3;\n",
              "  --sklearn-color-unfitted-level-3: chocolate;\n",
              "  /* Definition of color scheme for fitted estimators */\n",
              "  --sklearn-color-fitted-level-0: #f0f8ff;\n",
              "  --sklearn-color-fitted-level-1: #d4ebff;\n",
              "  --sklearn-color-fitted-level-2: #b3dbfd;\n",
              "  --sklearn-color-fitted-level-3: cornflowerblue;\n",
              "\n",
              "  /* Specific color for light theme */\n",
              "  --sklearn-color-text-on-default-background: var(--sg-text-color, var(--theme-code-foreground, var(--jp-content-font-color1, black)));\n",
              "  --sklearn-color-background: var(--sg-background-color, var(--theme-background, var(--jp-layout-color0, white)));\n",
              "  --sklearn-color-border-box: var(--sg-text-color, var(--theme-code-foreground, var(--jp-content-font-color1, black)));\n",
              "  --sklearn-color-icon: #696969;\n",
              "\n",
              "  @media (prefers-color-scheme: dark) {\n",
              "    /* Redefinition of color scheme for dark theme */\n",
              "    --sklearn-color-text-on-default-background: var(--sg-text-color, var(--theme-code-foreground, var(--jp-content-font-color1, white)));\n",
              "    --sklearn-color-background: var(--sg-background-color, var(--theme-background, var(--jp-layout-color0, #111)));\n",
              "    --sklearn-color-border-box: var(--sg-text-color, var(--theme-code-foreground, var(--jp-content-font-color1, white)));\n",
              "    --sklearn-color-icon: #878787;\n",
              "  }\n",
              "}\n",
              "\n",
              "#sk-container-id-2 {\n",
              "  color: var(--sklearn-color-text);\n",
              "}\n",
              "\n",
              "#sk-container-id-2 pre {\n",
              "  padding: 0;\n",
              "}\n",
              "\n",
              "#sk-container-id-2 input.sk-hidden--visually {\n",
              "  border: 0;\n",
              "  clip: rect(1px 1px 1px 1px);\n",
              "  clip: rect(1px, 1px, 1px, 1px);\n",
              "  height: 1px;\n",
              "  margin: -1px;\n",
              "  overflow: hidden;\n",
              "  padding: 0;\n",
              "  position: absolute;\n",
              "  width: 1px;\n",
              "}\n",
              "\n",
              "#sk-container-id-2 div.sk-dashed-wrapped {\n",
              "  border: 1px dashed var(--sklearn-color-line);\n",
              "  margin: 0 0.4em 0.5em 0.4em;\n",
              "  box-sizing: border-box;\n",
              "  padding-bottom: 0.4em;\n",
              "  background-color: var(--sklearn-color-background);\n",
              "}\n",
              "\n",
              "#sk-container-id-2 div.sk-container {\n",
              "  /* jupyter's `normalize.less` sets `[hidden] { display: none; }`\n",
              "     but bootstrap.min.css set `[hidden] { display: none !important; }`\n",
              "     so we also need the `!important` here to be able to override the\n",
              "     default hidden behavior on the sphinx rendered scikit-learn.org.\n",
              "     See: https://github.com/scikit-learn/scikit-learn/issues/21755 */\n",
              "  display: inline-block !important;\n",
              "  position: relative;\n",
              "}\n",
              "\n",
              "#sk-container-id-2 div.sk-text-repr-fallback {\n",
              "  display: none;\n",
              "}\n",
              "\n",
              "div.sk-parallel-item,\n",
              "div.sk-serial,\n",
              "div.sk-item {\n",
              "  /* draw centered vertical line to link estimators */\n",
              "  background-image: linear-gradient(var(--sklearn-color-text-on-default-background), var(--sklearn-color-text-on-default-background));\n",
              "  background-size: 2px 100%;\n",
              "  background-repeat: no-repeat;\n",
              "  background-position: center center;\n",
              "}\n",
              "\n",
              "/* Parallel-specific style estimator block */\n",
              "\n",
              "#sk-container-id-2 div.sk-parallel-item::after {\n",
              "  content: \"\";\n",
              "  width: 100%;\n",
              "  border-bottom: 2px solid var(--sklearn-color-text-on-default-background);\n",
              "  flex-grow: 1;\n",
              "}\n",
              "\n",
              "#sk-container-id-2 div.sk-parallel {\n",
              "  display: flex;\n",
              "  align-items: stretch;\n",
              "  justify-content: center;\n",
              "  background-color: var(--sklearn-color-background);\n",
              "  position: relative;\n",
              "}\n",
              "\n",
              "#sk-container-id-2 div.sk-parallel-item {\n",
              "  display: flex;\n",
              "  flex-direction: column;\n",
              "}\n",
              "\n",
              "#sk-container-id-2 div.sk-parallel-item:first-child::after {\n",
              "  align-self: flex-end;\n",
              "  width: 50%;\n",
              "}\n",
              "\n",
              "#sk-container-id-2 div.sk-parallel-item:last-child::after {\n",
              "  align-self: flex-start;\n",
              "  width: 50%;\n",
              "}\n",
              "\n",
              "#sk-container-id-2 div.sk-parallel-item:only-child::after {\n",
              "  width: 0;\n",
              "}\n",
              "\n",
              "/* Serial-specific style estimator block */\n",
              "\n",
              "#sk-container-id-2 div.sk-serial {\n",
              "  display: flex;\n",
              "  flex-direction: column;\n",
              "  align-items: center;\n",
              "  background-color: var(--sklearn-color-background);\n",
              "  padding-right: 1em;\n",
              "  padding-left: 1em;\n",
              "}\n",
              "\n",
              "\n",
              "/* Toggleable style: style used for estimator/Pipeline/ColumnTransformer box that is\n",
              "clickable and can be expanded/collapsed.\n",
              "- Pipeline and ColumnTransformer use this feature and define the default style\n",
              "- Estimators will overwrite some part of the style using the `sk-estimator` class\n",
              "*/\n",
              "\n",
              "/* Pipeline and ColumnTransformer style (default) */\n",
              "\n",
              "#sk-container-id-2 div.sk-toggleable {\n",
              "  /* Default theme specific background. It is overwritten whether we have a\n",
              "  specific estimator or a Pipeline/ColumnTransformer */\n",
              "  background-color: var(--sklearn-color-background);\n",
              "}\n",
              "\n",
              "/* Toggleable label */\n",
              "#sk-container-id-2 label.sk-toggleable__label {\n",
              "  cursor: pointer;\n",
              "  display: flex;\n",
              "  width: 100%;\n",
              "  margin-bottom: 0;\n",
              "  padding: 0.5em;\n",
              "  box-sizing: border-box;\n",
              "  text-align: center;\n",
              "  align-items: start;\n",
              "  justify-content: space-between;\n",
              "  gap: 0.5em;\n",
              "}\n",
              "\n",
              "#sk-container-id-2 label.sk-toggleable__label .caption {\n",
              "  font-size: 0.6rem;\n",
              "  font-weight: lighter;\n",
              "  color: var(--sklearn-color-text-muted);\n",
              "}\n",
              "\n",
              "#sk-container-id-2 label.sk-toggleable__label-arrow:before {\n",
              "  /* Arrow on the left of the label */\n",
              "  content: \"▸\";\n",
              "  float: left;\n",
              "  margin-right: 0.25em;\n",
              "  color: var(--sklearn-color-icon);\n",
              "}\n",
              "\n",
              "#sk-container-id-2 label.sk-toggleable__label-arrow:hover:before {\n",
              "  color: var(--sklearn-color-text);\n",
              "}\n",
              "\n",
              "/* Toggleable content - dropdown */\n",
              "\n",
              "#sk-container-id-2 div.sk-toggleable__content {\n",
              "  max-height: 0;\n",
              "  max-width: 0;\n",
              "  overflow: hidden;\n",
              "  text-align: left;\n",
              "  /* unfitted */\n",
              "  background-color: var(--sklearn-color-unfitted-level-0);\n",
              "}\n",
              "\n",
              "#sk-container-id-2 div.sk-toggleable__content.fitted {\n",
              "  /* fitted */\n",
              "  background-color: var(--sklearn-color-fitted-level-0);\n",
              "}\n",
              "\n",
              "#sk-container-id-2 div.sk-toggleable__content pre {\n",
              "  margin: 0.2em;\n",
              "  border-radius: 0.25em;\n",
              "  color: var(--sklearn-color-text);\n",
              "  /* unfitted */\n",
              "  background-color: var(--sklearn-color-unfitted-level-0);\n",
              "}\n",
              "\n",
              "#sk-container-id-2 div.sk-toggleable__content.fitted pre {\n",
              "  /* unfitted */\n",
              "  background-color: var(--sklearn-color-fitted-level-0);\n",
              "}\n",
              "\n",
              "#sk-container-id-2 input.sk-toggleable__control:checked~div.sk-toggleable__content {\n",
              "  /* Expand drop-down */\n",
              "  max-height: 200px;\n",
              "  max-width: 100%;\n",
              "  overflow: auto;\n",
              "}\n",
              "\n",
              "#sk-container-id-2 input.sk-toggleable__control:checked~label.sk-toggleable__label-arrow:before {\n",
              "  content: \"▾\";\n",
              "}\n",
              "\n",
              "/* Pipeline/ColumnTransformer-specific style */\n",
              "\n",
              "#sk-container-id-2 div.sk-label input.sk-toggleable__control:checked~label.sk-toggleable__label {\n",
              "  color: var(--sklearn-color-text);\n",
              "  background-color: var(--sklearn-color-unfitted-level-2);\n",
              "}\n",
              "\n",
              "#sk-container-id-2 div.sk-label.fitted input.sk-toggleable__control:checked~label.sk-toggleable__label {\n",
              "  background-color: var(--sklearn-color-fitted-level-2);\n",
              "}\n",
              "\n",
              "/* Estimator-specific style */\n",
              "\n",
              "/* Colorize estimator box */\n",
              "#sk-container-id-2 div.sk-estimator input.sk-toggleable__control:checked~label.sk-toggleable__label {\n",
              "  /* unfitted */\n",
              "  background-color: var(--sklearn-color-unfitted-level-2);\n",
              "}\n",
              "\n",
              "#sk-container-id-2 div.sk-estimator.fitted input.sk-toggleable__control:checked~label.sk-toggleable__label {\n",
              "  /* fitted */\n",
              "  background-color: var(--sklearn-color-fitted-level-2);\n",
              "}\n",
              "\n",
              "#sk-container-id-2 div.sk-label label.sk-toggleable__label,\n",
              "#sk-container-id-2 div.sk-label label {\n",
              "  /* The background is the default theme color */\n",
              "  color: var(--sklearn-color-text-on-default-background);\n",
              "}\n",
              "\n",
              "/* On hover, darken the color of the background */\n",
              "#sk-container-id-2 div.sk-label:hover label.sk-toggleable__label {\n",
              "  color: var(--sklearn-color-text);\n",
              "  background-color: var(--sklearn-color-unfitted-level-2);\n",
              "}\n",
              "\n",
              "/* Label box, darken color on hover, fitted */\n",
              "#sk-container-id-2 div.sk-label.fitted:hover label.sk-toggleable__label.fitted {\n",
              "  color: var(--sklearn-color-text);\n",
              "  background-color: var(--sklearn-color-fitted-level-2);\n",
              "}\n",
              "\n",
              "/* Estimator label */\n",
              "\n",
              "#sk-container-id-2 div.sk-label label {\n",
              "  font-family: monospace;\n",
              "  font-weight: bold;\n",
              "  display: inline-block;\n",
              "  line-height: 1.2em;\n",
              "}\n",
              "\n",
              "#sk-container-id-2 div.sk-label-container {\n",
              "  text-align: center;\n",
              "}\n",
              "\n",
              "/* Estimator-specific */\n",
              "#sk-container-id-2 div.sk-estimator {\n",
              "  font-family: monospace;\n",
              "  border: 1px dotted var(--sklearn-color-border-box);\n",
              "  border-radius: 0.25em;\n",
              "  box-sizing: border-box;\n",
              "  margin-bottom: 0.5em;\n",
              "  /* unfitted */\n",
              "  background-color: var(--sklearn-color-unfitted-level-0);\n",
              "}\n",
              "\n",
              "#sk-container-id-2 div.sk-estimator.fitted {\n",
              "  /* fitted */\n",
              "  background-color: var(--sklearn-color-fitted-level-0);\n",
              "}\n",
              "\n",
              "/* on hover */\n",
              "#sk-container-id-2 div.sk-estimator:hover {\n",
              "  /* unfitted */\n",
              "  background-color: var(--sklearn-color-unfitted-level-2);\n",
              "}\n",
              "\n",
              "#sk-container-id-2 div.sk-estimator.fitted:hover {\n",
              "  /* fitted */\n",
              "  background-color: var(--sklearn-color-fitted-level-2);\n",
              "}\n",
              "\n",
              "/* Specification for estimator info (e.g. \"i\" and \"?\") */\n",
              "\n",
              "/* Common style for \"i\" and \"?\" */\n",
              "\n",
              ".sk-estimator-doc-link,\n",
              "a:link.sk-estimator-doc-link,\n",
              "a:visited.sk-estimator-doc-link {\n",
              "  float: right;\n",
              "  font-size: smaller;\n",
              "  line-height: 1em;\n",
              "  font-family: monospace;\n",
              "  background-color: var(--sklearn-color-background);\n",
              "  border-radius: 1em;\n",
              "  height: 1em;\n",
              "  width: 1em;\n",
              "  text-decoration: none !important;\n",
              "  margin-left: 0.5em;\n",
              "  text-align: center;\n",
              "  /* unfitted */\n",
              "  border: var(--sklearn-color-unfitted-level-1) 1pt solid;\n",
              "  color: var(--sklearn-color-unfitted-level-1);\n",
              "}\n",
              "\n",
              ".sk-estimator-doc-link.fitted,\n",
              "a:link.sk-estimator-doc-link.fitted,\n",
              "a:visited.sk-estimator-doc-link.fitted {\n",
              "  /* fitted */\n",
              "  border: var(--sklearn-color-fitted-level-1) 1pt solid;\n",
              "  color: var(--sklearn-color-fitted-level-1);\n",
              "}\n",
              "\n",
              "/* On hover */\n",
              "div.sk-estimator:hover .sk-estimator-doc-link:hover,\n",
              ".sk-estimator-doc-link:hover,\n",
              "div.sk-label-container:hover .sk-estimator-doc-link:hover,\n",
              ".sk-estimator-doc-link:hover {\n",
              "  /* unfitted */\n",
              "  background-color: var(--sklearn-color-unfitted-level-3);\n",
              "  color: var(--sklearn-color-background);\n",
              "  text-decoration: none;\n",
              "}\n",
              "\n",
              "div.sk-estimator.fitted:hover .sk-estimator-doc-link.fitted:hover,\n",
              ".sk-estimator-doc-link.fitted:hover,\n",
              "div.sk-label-container:hover .sk-estimator-doc-link.fitted:hover,\n",
              ".sk-estimator-doc-link.fitted:hover {\n",
              "  /* fitted */\n",
              "  background-color: var(--sklearn-color-fitted-level-3);\n",
              "  color: var(--sklearn-color-background);\n",
              "  text-decoration: none;\n",
              "}\n",
              "\n",
              "/* Span, style for the box shown on hovering the info icon */\n",
              ".sk-estimator-doc-link span {\n",
              "  display: none;\n",
              "  z-index: 9999;\n",
              "  position: relative;\n",
              "  font-weight: normal;\n",
              "  right: .2ex;\n",
              "  padding: .5ex;\n",
              "  margin: .5ex;\n",
              "  width: min-content;\n",
              "  min-width: 20ex;\n",
              "  max-width: 50ex;\n",
              "  color: var(--sklearn-color-text);\n",
              "  box-shadow: 2pt 2pt 4pt #999;\n",
              "  /* unfitted */\n",
              "  background: var(--sklearn-color-unfitted-level-0);\n",
              "  border: .5pt solid var(--sklearn-color-unfitted-level-3);\n",
              "}\n",
              "\n",
              ".sk-estimator-doc-link.fitted span {\n",
              "  /* fitted */\n",
              "  background: var(--sklearn-color-fitted-level-0);\n",
              "  border: var(--sklearn-color-fitted-level-3);\n",
              "}\n",
              "\n",
              ".sk-estimator-doc-link:hover span {\n",
              "  display: block;\n",
              "}\n",
              "\n",
              "/* \"?\"-specific style due to the `<a>` HTML tag */\n",
              "\n",
              "#sk-container-id-2 a.estimator_doc_link {\n",
              "  float: right;\n",
              "  font-size: 1rem;\n",
              "  line-height: 1em;\n",
              "  font-family: monospace;\n",
              "  background-color: var(--sklearn-color-background);\n",
              "  border-radius: 1rem;\n",
              "  height: 1rem;\n",
              "  width: 1rem;\n",
              "  text-decoration: none;\n",
              "  /* unfitted */\n",
              "  color: var(--sklearn-color-unfitted-level-1);\n",
              "  border: var(--sklearn-color-unfitted-level-1) 1pt solid;\n",
              "}\n",
              "\n",
              "#sk-container-id-2 a.estimator_doc_link.fitted {\n",
              "  /* fitted */\n",
              "  border: var(--sklearn-color-fitted-level-1) 1pt solid;\n",
              "  color: var(--sklearn-color-fitted-level-1);\n",
              "}\n",
              "\n",
              "/* On hover */\n",
              "#sk-container-id-2 a.estimator_doc_link:hover {\n",
              "  /* unfitted */\n",
              "  background-color: var(--sklearn-color-unfitted-level-3);\n",
              "  color: var(--sklearn-color-background);\n",
              "  text-decoration: none;\n",
              "}\n",
              "\n",
              "#sk-container-id-2 a.estimator_doc_link.fitted:hover {\n",
              "  /* fitted */\n",
              "  background-color: var(--sklearn-color-fitted-level-3);\n",
              "}\n",
              "</style><div id=\"sk-container-id-2\" class=\"sk-top-container\"><div class=\"sk-text-repr-fallback\"><pre>SGDRegressor(learning_rate=&#x27;constant&#x27;, max_iter=2000, random_state=21,\n",
              "             shuffle=False, tol=1e-06)</pre><b>In a Jupyter environment, please rerun this cell to show the HTML representation or trust the notebook. <br />On GitHub, the HTML representation is unable to render, please try loading this page with nbviewer.org.</b></div><div class=\"sk-container\" hidden><div class=\"sk-item\"><div class=\"sk-estimator fitted sk-toggleable\"><input class=\"sk-toggleable__control sk-hidden--visually\" id=\"sk-estimator-id-2\" type=\"checkbox\" checked><label for=\"sk-estimator-id-2\" class=\"sk-toggleable__label fitted sk-toggleable__label-arrow\"><div><div>SGDRegressor</div></div><div><a class=\"sk-estimator-doc-link fitted\" rel=\"noreferrer\" target=\"_blank\" href=\"https://scikit-learn.org/1.6/modules/generated/sklearn.linear_model.SGDRegressor.html\">?<span>Documentation for SGDRegressor</span></a><span class=\"sk-estimator-doc-link fitted\">i<span>Fitted</span></span></div></label><div class=\"sk-toggleable__content fitted\"><pre>SGDRegressor(learning_rate=&#x27;constant&#x27;, max_iter=2000, random_state=21,\n",
              "             shuffle=False, tol=1e-06)</pre></div> </div></div></div></div>"
            ]
          },
          "metadata": {},
          "execution_count": 73
        }
      ],
      "source": [
        "# Обучение\n",
        "lr_gd.fit(X_linear_train_scaled, Y_linear_train)"
      ]
    },
    {
      "cell_type": "code",
      "execution_count": 74,
      "metadata": {
        "colab": {
          "base_uri": "https://localhost:8080/"
        },
        "id": "HJVqu9dELH8u",
        "outputId": "c775e120-a340-4d78-a2be-2f2d58a5c33e"
      },
      "outputs": [
        {
          "output_type": "execute_result",
          "data": {
            "text/plain": [
              "{'MSE': np.float64(5.4895077887293375),\n",
              " 'RMSE': np.float64(2.342969865092024),\n",
              " 'MAE': np.float64(1.7007333825912805),\n",
              " 'R2': np.float64(0.4486050498038303)}"
            ]
          },
          "metadata": {},
          "execution_count": 74
        }
      ],
      "source": [
        "# Прогонка и метрики\n",
        "y_pred = lr_gd.predict(X_linear_train_scaled)\n",
        "lr_gd_metrics = get_metrics(Y_linear_train, y_pred)\n",
        "lr_gd_metrics"
      ]
    },
    {
      "cell_type": "markdown",
      "metadata": {
        "id": "aGgLysdfMqUK"
      },
      "source": [
        "### 4.2. Стохастический градиентный спуск"
      ]
    },
    {
      "cell_type": "code",
      "execution_count": null,
      "metadata": {
        "id": "5RFvRH2WMp9n"
      },
      "outputs": [],
      "source": [
        "# Инициализация модели\n",
        "lr_sgd = SGDRegressor(\n",
        "    max_iter=2000,                # максимум итераций\n",
        "    tol=1e-6,                     # остановка, когда улучшение < tol\n",
        "    learning_rate='invscaling',   # тип изменения шага\n",
        "    eta0=0.01,                    # стартовый шаг\n",
        "    penalty='l1',                 # регуляризация L2 (Ridge)\n",
        "    random_state=RND_SEED\n",
        ")"
      ]
    },
    {
      "cell_type": "code",
      "execution_count": null,
      "metadata": {
        "id": "S_Htp_taNAY8"
      },
      "outputs": [],
      "source": [
        "# Обучение\n",
        "lr_sgd.fit(X_train_linear_scaled, y_train_linear)"
      ]
    },
    {
      "cell_type": "code",
      "execution_count": null,
      "metadata": {
        "id": "kymCnNFVNHKx"
      },
      "outputs": [],
      "source": [
        "# Прогонка и метрики\n",
        "y_pred = lr_sgd.predict(X_test_linear_scaled)\n",
        "lr_sgd_metrics = get_metrics(y_test_linear, y_pred)\n",
        "lr_sgd_metrics"
      ]
    },
    {
      "cell_type": "markdown",
      "metadata": {
        "id": "1xKy6vnKNbEm"
      },
      "source": [
        "### 4.3. Линейная модель с регуляризацией Rigde (L2)"
      ]
    },
    {
      "cell_type": "code",
      "execution_count": null,
      "metadata": {
        "id": "RJk4sqFkNm-q"
      },
      "outputs": [],
      "source": [
        "# Инициализация модели\n",
        "from sklearn.linear_model import Ridge\n",
        "lr_ridge = Ridge(alpha=1.0)"
      ]
    },
    {
      "cell_type": "code",
      "execution_count": null,
      "metadata": {
        "id": "axm_sBm5Nsos"
      },
      "outputs": [],
      "source": [
        "# Обучение\n",
        "lr_ridge.fit(X_train_linear_scaled, y_train_linear)"
      ]
    },
    {
      "cell_type": "code",
      "execution_count": null,
      "metadata": {
        "id": "l7zPRi_SNv63"
      },
      "outputs": [],
      "source": [
        "# Прогонка и метрики\n",
        "y_pred = lr_ridge.predict(X_test_linear_scaled)\n",
        "lr_ridge_metrics = get_metrics(y_test_linear, y_pred)\n",
        "lr_ridge_metrics"
      ]
    },
    {
      "cell_type": "markdown",
      "metadata": {
        "id": "dlfBXP0uOF5X"
      },
      "source": [
        "### 4.3. Линейная модель с регуляризацией Lasso (L1)"
      ]
    },
    {
      "cell_type": "code",
      "execution_count": null,
      "metadata": {
        "id": "02xQ4Cv1OFde"
      },
      "outputs": [],
      "source": [
        "# Инициализация модели\n",
        "from sklearn.linear_model import Lasso\n",
        "lr_lasso = Lasso(alpha=0.01)"
      ]
    },
    {
      "cell_type": "code",
      "execution_count": null,
      "metadata": {
        "id": "OFNHEyffOPaE"
      },
      "outputs": [],
      "source": [
        "# Обучение\n",
        "lr_lasso.fit(X_train_linear_scaled, y_train_linear)"
      ]
    },
    {
      "cell_type": "code",
      "execution_count": null,
      "metadata": {
        "id": "Ic-1jtCGOWsu"
      },
      "outputs": [],
      "source": [
        "# Прогонка и метрики\n",
        "y_pred = lr_lasso.predict(X_test_linear_scaled)\n",
        "lr_lasso_metrics = get_metrics(y_test_linear, y_pred)\n",
        "lr_lasso_metrics"
      ]
    },
    {
      "cell_type": "markdown",
      "metadata": {
        "id": "Jgpha61_OlfO"
      },
      "source": [
        "### 4.4. Линейная модель с регуляризацией ElasticNet (комбинация L1+L2)"
      ]
    },
    {
      "cell_type": "code",
      "execution_count": null,
      "metadata": {
        "id": "hLm0wREpOsxV"
      },
      "outputs": [],
      "source": [
        "# Инициализация модели\n",
        "from sklearn.linear_model import ElasticNet\n",
        "lr_enet = ElasticNet(alpha=0.01, l1_ratio=0.5)"
      ]
    },
    {
      "cell_type": "code",
      "execution_count": null,
      "metadata": {
        "id": "ek5RqvtoO0Ed"
      },
      "outputs": [],
      "source": [
        "# Обучение\n",
        "lr_enet.fit(X_train_linear_scaled, y_train_linear)"
      ]
    },
    {
      "cell_type": "code",
      "execution_count": null,
      "metadata": {
        "id": "cYHBl6WYO3Do"
      },
      "outputs": [],
      "source": [
        "# Прогонка и метрики\n",
        "y_pred = lr_enet.predict(X_test_linear_scaled)\n",
        "lr_enet_metrics = get_metrics(y_test_linear, y_pred)\n",
        "lr_enet_metrics"
      ]
    },
    {
      "cell_type": "markdown",
      "metadata": {
        "id": "v6PsvHh6PJjI"
      },
      "source": [
        "## 4. Случайный лес регрессор"
      ]
    },
    {
      "cell_type": "code",
      "execution_count": null,
      "metadata": {
        "id": "IOHmsirfPXDc"
      },
      "outputs": [],
      "source": [
        "# Инициализация модели\n",
        "from sklearn.ensemble import RandomForestRegressor\n",
        "rf = RandomForestRegressor(\n",
        "    n_estimators=200,      # количество деревьев\n",
        "    max_depth=None,        # глубина деревьев\n",
        "    random_state=RND_SEED,\n",
        "    n_jobs=-1              # использовать все ядра процессора\n",
        ")"
      ]
    },
    {
      "cell_type": "code",
      "execution_count": null,
      "metadata": {
        "id": "4cN3MjnQPqtz"
      },
      "outputs": [],
      "source": [
        "# Обучение\n",
        "rf.fit(X_train_forest, y_train_forest)"
      ]
    },
    {
      "cell_type": "code",
      "execution_count": null,
      "metadata": {
        "id": "fN39XWpJP6WY"
      },
      "outputs": [],
      "source": [
        "# Прогонка и метрики\n",
        "y_pred = rf.predict(X_test_forest)\n",
        "rf_metrics = get_metrics(y_test_forest, y_pred)\n",
        "rf_metrics"
      ]
    },
    {
      "cell_type": "markdown",
      "metadata": {
        "id": "DDTQyzs2QPMr"
      },
      "source": [
        "## 5. Градиентный бустинг (XGBoost)"
      ]
    },
    {
      "cell_type": "code",
      "execution_count": null,
      "metadata": {
        "id": "c_PmL1JsQZ3r"
      },
      "outputs": [],
      "source": [
        "# Инициализация модели\n",
        "import xgboost\n",
        "xgb = xgboost.XGBRegressor(\n",
        "    n_estimators=500,\n",
        "    learning_rate=0.05,\n",
        "    max_depth=4,\n",
        "    subsample=0.8,\n",
        "    colsample_bytree=0.8,\n",
        "    random_state=RND_SEED\n",
        ")"
      ]
    },
    {
      "cell_type": "code",
      "execution_count": null,
      "metadata": {
        "id": "0OvwsLeKQnwg"
      },
      "outputs": [],
      "source": [
        "# Обучение\n",
        "xgb.fit(X_train_xgboost, y_train_xgboost)"
      ]
    },
    {
      "cell_type": "code",
      "execution_count": null,
      "metadata": {
        "id": "0xECYxKaQz_L"
      },
      "outputs": [],
      "source": [
        "# Прогонка и метрики\n",
        "y_pred = xgb.predict(X_test_xgboost)\n",
        "xgb_metrics = get_metrics(y_test_xgboost, y_pred)\n",
        "xgb_metrics"
      ]
    },
    {
      "cell_type": "markdown",
      "metadata": {
        "id": "IUAYVo5hRqVW"
      },
      "source": [
        "## 5. Feature Importance"
      ]
    },
    {
      "cell_type": "markdown",
      "metadata": {
        "id": "ubh55e8KRzES"
      },
      "source": [
        "### 5.1 Linear Regression\n"
      ]
    },
    {
      "cell_type": "markdown",
      "metadata": {
        "id": "1zB8e_JgU_vM"
      },
      "source": [
        "В **линейных моделях** (LinearRegression, Ridge, Lasso) **feature importance** — это не что иное, как **коэффициенты модели (`coef_`)**.\n",
        "\n",
        "Но есть нюансы:\n",
        "\n",
        "* Коэффициенты сами по себе могут быть несопоставимы по масштабу признаков.\n",
        "* Поэтому мы правильно сделали **стандартизацию (StandardScaler)** → теперь коэффициенты отражают вклад признаков.\n",
        "* Знак коэффициента (+ / -) показывает направление влияния:\n",
        "\n",
        "  * `+` → признак увеличивает предсказание качества вина,\n",
        "  * `-` → уменьшает.\n"
      ]
    },
    {
      "cell_type": "code",
      "execution_count": null,
      "metadata": {
        "id": "Gouxft_jUMke"
      },
      "outputs": [],
      "source": [
        "importance = pd.DataFrame({\n",
        "    'Feature': X_train_linear.columns,\n",
        "    'Coefficient': lr.coef_\n",
        "}).sort_values(by='Coefficient', key=abs, ascending=False)\n",
        "\n",
        "plt.figure(figsize=(10,6))\n",
        "sns.barplot(\n",
        "    x='Coefficient',\n",
        "    y='Feature',\n",
        "    data=importance,\n",
        "    palette='viridis'\n",
        ")\n",
        "plt.axvline(0, color='red', linestyle='--')\n",
        "plt.title('Feature Importance (Linear Regressor)')\n",
        "plt.show()"
      ]
    },
    {
      "cell_type": "markdown",
      "metadata": {
        "id": "Um6d8vUbSzAX"
      },
      "source": [
        "### 5.2 Linear Regression (GD)\n"
      ]
    },
    {
      "cell_type": "code",
      "execution_count": null,
      "metadata": {
        "id": "feTc7mVLVKGO"
      },
      "outputs": [],
      "source": [
        "importance = pd.DataFrame({\n",
        "    'Feature': X_train_linear.columns,\n",
        "    'Coefficient': lr_gd.coef_\n",
        "}).sort_values(by='Coefficient', key=abs, ascending=False)\n",
        "\n",
        "plt.figure(figsize=(10,6))\n",
        "sns.barplot(\n",
        "    x='Coefficient',\n",
        "    y='Feature',\n",
        "    data=importance,\n",
        "    palette='viridis'\n",
        ")\n",
        "plt.axvline(0, color='red', linestyle='--')\n",
        "plt.title('Feature Importance (GD Regressor)')\n",
        "plt.show()"
      ]
    },
    {
      "cell_type": "markdown",
      "metadata": {
        "id": "OdnODQwoS0Me"
      },
      "source": [
        "### 5.3 Linear Regression (SGD)\n"
      ]
    },
    {
      "cell_type": "code",
      "execution_count": null,
      "metadata": {
        "id": "hu2sbaoCV8PC"
      },
      "outputs": [],
      "source": [
        "importance = pd.DataFrame({\n",
        "    'Feature': X_train_linear.columns,\n",
        "    'Coefficient': lr_sgd.coef_\n",
        "}).sort_values(by='Coefficient', key=abs, ascending=False)\n",
        "\n",
        "plt.figure(figsize=(10,6))\n",
        "sns.barplot(\n",
        "    x='Coefficient',\n",
        "    y='Feature',\n",
        "    data=importance,\n",
        "    palette='viridis'\n",
        ")\n",
        "plt.axvline(0, color='red', linestyle='--')\n",
        "plt.title('Feature Importance (SGD Regressor)')\n",
        "plt.show()"
      ]
    },
    {
      "cell_type": "markdown",
      "metadata": {
        "id": "JQ1bh_vYS1YR"
      },
      "source": [
        "### 5.4 Linear Regression (Rigde)\n"
      ]
    },
    {
      "cell_type": "code",
      "execution_count": null,
      "metadata": {
        "id": "_C718GqOWBau"
      },
      "outputs": [],
      "source": [
        "importance = pd.DataFrame({\n",
        "    'Feature': X_train_linear.columns,\n",
        "    'Coefficient': lr_ridge.coef_\n",
        "}).sort_values(by='Coefficient', key=abs, ascending=False)\n",
        "\n",
        "plt.figure(figsize=(10,6))\n",
        "sns.barplot(\n",
        "    x='Coefficient',\n",
        "    y='Feature',\n",
        "    data=importance,\n",
        "    palette='viridis'\n",
        ")\n",
        "plt.axvline(0, color='red', linestyle='--')\n",
        "plt.title('Feature Importance (LR ridge)')\n",
        "plt.show()"
      ]
    },
    {
      "cell_type": "markdown",
      "metadata": {
        "id": "EQPAyuZwS2kW"
      },
      "source": [
        "### 5.5 Linear Regression (Lasso)\n"
      ]
    },
    {
      "cell_type": "code",
      "execution_count": null,
      "metadata": {
        "id": "b26ALP4sWO-5"
      },
      "outputs": [],
      "source": [
        "importance = pd.DataFrame({\n",
        "    'Feature': X_train_linear.columns,\n",
        "    'Coefficient': lr_lasso.coef_\n",
        "}).sort_values(by='Coefficient', key=abs, ascending=False)\n",
        "\n",
        "plt.figure(figsize=(10,6))\n",
        "sns.barplot(\n",
        "    x='Coefficient',\n",
        "    y='Feature',\n",
        "    data=importance,\n",
        "    palette='viridis'\n",
        ")\n",
        "plt.axvline(0, color='red', linestyle='--')\n",
        "plt.title('Feature Importance (LR lasso)')\n",
        "plt.show()"
      ]
    },
    {
      "cell_type": "markdown",
      "metadata": {
        "id": "U0-G2Cj_S3pU"
      },
      "source": [
        "### 5.6 Linear Regression (ElasticNet)\n"
      ]
    },
    {
      "cell_type": "code",
      "execution_count": null,
      "metadata": {
        "id": "-3ynG9h8WTnj"
      },
      "outputs": [],
      "source": [
        "importance = pd.DataFrame({\n",
        "    'Feature': X_train_linear.columns,\n",
        "    'Coefficient': lr_enet.coef_\n",
        "}).sort_values(by='Coefficient', key=abs, ascending=False)\n",
        "\n",
        "plt.figure(figsize=(10,6))\n",
        "sns.barplot(\n",
        "    x='Coefficient',\n",
        "    y='Feature',\n",
        "    data=importance,\n",
        "    palette='viridis'\n",
        ")\n",
        "plt.axvline(0, color='red', linestyle='--')\n",
        "plt.title('Feature Importance (LR elastic_net)')\n",
        "plt.show()"
      ]
    },
    {
      "cell_type": "markdown",
      "metadata": {
        "id": "HuYh063US4pv"
      },
      "source": [
        "### 5.7 Random Forest\n"
      ]
    },
    {
      "cell_type": "code",
      "execution_count": null,
      "metadata": {
        "id": "BWdZTbepTh1X"
      },
      "outputs": [],
      "source": [
        "feature_importances = pd.Series(rf.feature_importances_, index=X_forest.columns)\n",
        "feature_importances = feature_importances.sort_values(ascending=False)\n",
        "\n",
        "plt.figure(figsize=(10,6))\n",
        "sns.barplot(x=feature_importances.values, y=feature_importances.index)\n",
        "plt.title(\"Feature Importance (Random Forest)\")\n",
        "plt.show()"
      ]
    },
    {
      "cell_type": "markdown",
      "metadata": {
        "id": "UK_zFrwKS5si"
      },
      "source": [
        "### 5.6 XGBoost"
      ]
    },
    {
      "cell_type": "code",
      "execution_count": null,
      "metadata": {
        "id": "VZas38yuTF-t"
      },
      "outputs": [],
      "source": [
        "plt.figure(figsize=(10,6))\n",
        "xgboost.plot_importance(xgb, importance_type='weight', max_num_features=10)\n",
        "plt.title(\"Feature Importance (XGBoost)\")\n",
        "plt.show()"
      ]
    },
    {
      "cell_type": "markdown",
      "metadata": {
        "id": "hPfLMeh5YXY5"
      },
      "source": [
        "## 8. Написание своих реализаций (классы)\n",
        "\n",
        "Напишите свои классы реализации:\n",
        "\n",
        "- LR\n",
        "- LR + GD\n",
        "- LR + SGD\n",
        "- *Random Forest (не обязательно)\n",
        "- *Gradient Boosting Regressor (не обязательно)"
      ]
    },
    {
      "cell_type": "code",
      "source": [
        "from typing import Optional, Tuple, List, Any, Dict"
      ],
      "metadata": {
        "id": "5TbZZhgPwGFg"
      },
      "execution_count": 76,
      "outputs": []
    },
    {
      "cell_type": "code",
      "source": [
        "class LinearRegression:\n",
        "    def __init__(self, fit_intercept: bool = True, normalize: bool = False, random_state: Optional[int] = None):\n",
        "        self.fit_intercept = fit_intercept\n",
        "        self.normalize = normalize\n",
        "        self.random_state = random_state\n",
        "        self.coef_: Optional[np.ndarray] = None\n",
        "        self.intercept_: float = 0.0\n",
        "        self._X_mean: Optional[np.ndarray] = None\n",
        "        self._X_std: Optional[np.ndarray] = None\n",
        "\n",
        "\n",
        "    def _validate_inputs(self, X: np.ndarray, y: Optional[np.ndarray] = None) -> Tuple[np.ndarray, Optional[np.ndarray]]:\n",
        "        X = np.asarray(X, dtype=float)\n",
        "        if X.ndim != 2:\n",
        "            raise ValueError(\"X must be 2D array (n_samples, n_features)\")\n",
        "        if X.shape[0] == 0:\n",
        "            raise ValueError(\"X must contain at least one sample\")\n",
        "        if y is not None:\n",
        "            y = np.asarray(y, dtype=float).reshape(-1)\n",
        "            if y.shape[0] != X.shape[0]:\n",
        "                raise ValueError(\"X and y have incompatible first dimension\")\n",
        "        return X, y\n",
        "\n",
        "    def _standardize(self, X: np.ndarray, fit: bool = False) -> np.ndarray:\n",
        "        if not self.normalize:\n",
        "            return X\n",
        "        if X.size == 0 or X.shape[0] == 0:\n",
        "            raise ValueError(\"Cannot standardize empty array\")\n",
        "        if fit:\n",
        "            n_samples = X.shape[0]\n",
        "            if n_samples == 0:\n",
        "                raise ValueError(\"Cannot compute mean/std on empty array\")\n",
        "            self._X_mean = X.mean(axis=0)\n",
        "            self._X_std = X.std(axis=0, ddof=0)\n",
        "            self._X_std = np.where(self._X_std == 0.0, 1.0, self._X_std)\n",
        "        if self._X_mean is None or self._X_std is None:\n",
        "            raise RuntimeError(\"Normalization statistics are not initialized\")\n",
        "        return (X - self._X_mean) / self._X_std\n",
        "\n",
        "    def _add_intercept(self, X: np.ndarray) -> np.ndarray:\n",
        "        if not self.fit_intercept:\n",
        "            return X\n",
        "        ones = np.ones((X.shape[0], 1), dtype=float)\n",
        "        return np.hstack([ones, X])\n",
        "\n",
        "    def _design_matrix(self, X: np.ndarray, fit: bool = False) -> np.ndarray:\n",
        "        X = np.asarray(X, dtype=float)\n",
        "        if X.ndim == 1:\n",
        "            X = X.reshape(1, -1)\n",
        "        if self.normalize:\n",
        "            X = self._standardize(X, fit=fit)\n",
        "        return self._add_intercept(X)\n",
        "\n",
        "    def _init_weights(self, dim: int) -> np.ndarray:\n",
        "        rng = np.random.default_rng(self.random_state)\n",
        "        return rng.standard_normal(dim) * 1e-2\n",
        "\n",
        "    def _compute_loss(self, X_design: np.ndarray, y: np.ndarray, w: np.ndarray) -> float:\n",
        "        resid = X_design @ w - y\n",
        "        return float(np.mean(resid ** 2))\n",
        "\n",
        "    def _fit_analytic(self, X: np.ndarray, y: np.ndarray) -> None:\n",
        "        Xd = self._design_matrix(X, fit=True)\n",
        "        if Xd.size == 0:\n",
        "            raise ValueError(\"Design matrix is empty\")\n",
        "\n",
        "        try:\n",
        "            w = np.linalg.pinv(Xd) @ y\n",
        "        except np.linalg.LinAlgError:\n",
        "            w = np.linalg.lstsq(Xd, y, rcond=None)[0]\n",
        "\n",
        "        if self.fit_intercept:\n",
        "            self.intercept_ = float(w[0])\n",
        "            self.coef_ = np.asarray(w[1:], dtype=float)\n",
        "        else:\n",
        "            self.intercept_ = 0.0\n",
        "            self.coef_ = np.asarray(w, dtype=float)\n",
        "\n",
        "    def _fit_gd_wrapper(self, X, y, lr, n_iter, tol, verbose, return_history):\n",
        "        Xd = self._design_matrix(X, fit=True)\n",
        "        n_samples, d = Xd.shape\n",
        "        w = self._init_weights(d)\n",
        "        loss_history: List[float] = []\n",
        "\n",
        "        for it in range(n_iter):\n",
        "            preds = Xd @ w\n",
        "            resid = preds - y\n",
        "            loss = float(np.mean(resid ** 2))\n",
        "            loss_history.append(loss)\n",
        "\n",
        "            grad = (2.0 / n_samples) * (Xd.T @ resid)\n",
        "            w_new = w - lr * grad\n",
        "\n",
        "            if np.linalg.norm(w_new - w) < tol:\n",
        "                w = w_new\n",
        "                if verbose:\n",
        "                    print(f\"Converged at iteration {it}\")\n",
        "                break\n",
        "            w = w_new\n",
        "\n",
        "            if verbose and it % 100 == 0:\n",
        "                print(f\"Iteration {it}, Loss: {loss:.6f}\")\n",
        "\n",
        "        if self.fit_intercept:\n",
        "            self.intercept_ = float(w[0])\n",
        "            self.coef_ = np.asarray(w[1:], dtype=float)\n",
        "        else:\n",
        "            self.intercept_ = 0.0\n",
        "            self.coef_ = np.asarray(w, dtype=float)\n",
        "\n",
        "        return {\"loss_history\": loss_history} if return_history else self\n",
        "\n",
        "    def _fit_sgd_wrapper(self, X, y, lr, n_iter, batch_size, shuffle, verbose, return_history):\n",
        "        Xd = self._design_matrix(X, fit=True)\n",
        "        n_samples, d = Xd.shape\n",
        "\n",
        "        w = self._init_weights(d)\n",
        "        loss_history: List[float] = []\n",
        "\n",
        "        if batch_size is None or batch_size <= 0:\n",
        "            batch_size = 1\n",
        "        batch_size = int(batch_size)\n",
        "\n",
        "        for epoch in range(n_iter):\n",
        "            indices = np.arange(n_samples)\n",
        "            if shuffle:\n",
        "                rng = np.random.default_rng(self.random_state)\n",
        "                rng.shuffle(indices)\n",
        "\n",
        "            epoch_loss = 0.0\n",
        "            batch_count = 0\n",
        "\n",
        "            for start in range(0, n_samples, batch_size):\n",
        "                end = min(start + batch_size, n_samples)\n",
        "                batch_indices = indices[start:end]\n",
        "\n",
        "                X_batch = X[batch_indices]\n",
        "                y_batch = y[batch_indices]\n",
        "                Xb_design = self._design_matrix(X_batch, fit=False)\n",
        "\n",
        "                preds = Xb_design @ w\n",
        "                resid = preds - y_batch\n",
        "                batch_loss = np.mean(resid ** 2)\n",
        "                epoch_loss += batch_loss\n",
        "                batch_count += 1\n",
        "\n",
        "                grad = (2.0 / Xb_design.shape[0]) * (Xb_design.T @ resid)\n",
        "                w = w - lr * grad\n",
        "\n",
        "            avg_epoch_loss = epoch_loss / batch_count if batch_count > 0 else 0.0\n",
        "            loss_history.append(avg_epoch_loss)\n",
        "\n",
        "            if verbose and epoch % 100 == 0:\n",
        "                print(f\"Epoch {epoch}, Average Loss: {avg_epoch_loss:.6f}\")\n",
        "\n",
        "        if self.fit_intercept:\n",
        "            self.intercept_ = float(w[0])\n",
        "            self.coef_ = np.asarray(w[1:], dtype=float)\n",
        "        else:\n",
        "            self.intercept_ = 0.0\n",
        "            self.coef_ = np.asarray(w, dtype=float)\n",
        "\n",
        "        return {\"loss_history\": loss_history} if return_history else self\n",
        "\n",
        "    def fit(self, X: np.ndarray, y: np.ndarray, method: str = \"analytic\",\n",
        "            lr: float = 1e-2, n_iter: int = 1000, tol: float = 1e-6,\n",
        "            batch_size: Optional[int] = None, verbose: bool = False,\n",
        "            return_history: bool = False, **sgd_kwargs) -> Any:\n",
        "        X, y = self._validate_inputs(X, y)\n",
        "        method = method.lower()\n",
        "\n",
        "        if method == \"analytic\":\n",
        "            self._fit_analytic(X, y)\n",
        "            return {\"loss_history\": None} if return_history else self\n",
        "        elif method == \"gd\":\n",
        "            return self._fit_gd_wrapper(X, y, lr, n_iter, tol, verbose, return_history)\n",
        "        elif method == \"sgd\":\n",
        "            shuffle = sgd_kwargs.get(\"shuffle\", True)\n",
        "            return self._fit_sgd_wrapper(X, y, lr, n_iter, batch_size, shuffle, verbose, return_history)\n",
        "        else:\n",
        "            raise ValueError(\"Unknown method. Choose 'analytic', 'gd' or 'sgd'.\")\n",
        "\n",
        "    def predict(self, X: np.ndarray) -> np.ndarray:\n",
        "        X = np.asarray(X, dtype=float)\n",
        "        if self.coef_ is None:\n",
        "            raise ValueError(\"Model is not fitted\")\n",
        "        if X.ndim == 1:\n",
        "            X = X.reshape(1, -1)\n",
        "\n",
        "        Xd = self._design_matrix(X, fit=False)\n",
        "\n",
        "        if self.fit_intercept:\n",
        "            if Xd.shape[1] != len(self.coef_) + 1:\n",
        "                raise ValueError(f\"Feature dimension mismatch: expected {len(self.coef_) + 1}, got {Xd.shape[1]}\")\n",
        "            w = np.concatenate([[self.intercept_], self.coef_])\n",
        "        else:\n",
        "            if Xd.shape[1] != len(self.coef_):\n",
        "                raise ValueError(f\"Feature dimension mismatch: expected {len(self.coef_)}, got {Xd.shape[1]}\")\n",
        "            w = self.coef_\n",
        "\n",
        "        return Xd @ w\n",
        "\n",
        "    def mse(self, X: np.ndarray, y: np.ndarray) -> float:\n",
        "        preds = self.predict(X)\n",
        "        return float(np.mean((preds - y) ** 2))\n",
        "\n",
        "    def rmse(self, X: np.ndarray, y: np.ndarray) -> float:\n",
        "        return float(np.sqrt(self.mse(X, y)))\n",
        "\n",
        "    def mae(self, X: np.ndarray, y: np.ndarray) -> float:\n",
        "        preds = self.predict(X)\n",
        "        return float(np.mean(np.abs(preds - y)))\n",
        "\n",
        "    def r2_score(self, X: np.ndarray, y: np.ndarray) -> float:\n",
        "        preds = self.predict(X)\n",
        "        ss_res = np.sum((y - preds) ** 2)\n",
        "        ss_tot = np.sum((y - np.mean(y)) ** 2)\n",
        "        return float(1.0 - ss_res / ss_tot) if ss_tot != 0.0 else 0.0\n",
        "\n",
        "    def get_params(self) -> Dict[str, Any]:\n",
        "        return {\"coef\": self.coef_, \"intercept\": self.intercept_}"
      ],
      "metadata": {
        "id": "5V5--ZMGv9Fl"
      },
      "execution_count": 77,
      "outputs": []
    },
    {
      "cell_type": "code",
      "source": [
        "X_train = X_linear_train.values\n",
        "y_train = Y_linear_train.values\n",
        "X_test = X_linear_test.values\n",
        "y_test = Y_linear_test.values\n",
        "\n",
        "model_analytic = LinearRegression(fit_intercept=True, normalize=True)\n",
        "model_analytic.fit(X_train, y_train, method=\"analytic\")\n",
        "print(\"=== Аналитический метод ===\")\n",
        "print(\"Коэффициенты:\", model_analytic.coef_)\n",
        "print(\"Свободный член:\", model_analytic.intercept_)\n",
        "print(\"R² (train):\", model_analytic.r2_score(X_train, y_train))\n",
        "print(\"R² (test):\", model_analytic.r2_score(X_test, y_test))\n",
        "print(\"RMSE (test):\", model_analytic.rmse(X_test, y_test))\n",
        "print()\n",
        "\n",
        "model_gd = LinearRegression(fit_intercept=True, normalize=True, random_state=RND_SEED)\n",
        "model_gd.fit(X_train, y_train, method=\"gd\", lr=1e-3, n_iter=5000, verbose=False)\n",
        "print(\"=== Градиентный спуск ===\")\n",
        "print(\"Коэффициенты:\", model_gd.coef_)\n",
        "print(\"Свободный член:\", model_gd.intercept_)\n",
        "print(\"R² (train):\", model_gd.r2_score(X_train, y_train))\n",
        "print(\"R² (test):\", model_gd.r2_score(X_test, y_test))\n",
        "print(\"RMSE (test):\", model_gd.rmse(X_test, y_test))\n",
        "print()\n",
        "\n",
        "model_sgd = LinearRegression(fit_intercept=True, normalize=True, random_state=RND_SEED)\n",
        "history = model_sgd.fit(X_train, y_train, method=\"sgd\", lr=1e-2, n_iter=200,\n",
        "                        batch_size=32, shuffle=True, return_history=True)\n",
        "print(\"=== SGD ===\")\n",
        "print(\"Коэффициенты:\", model_sgd.coef_)\n",
        "print(\"Свободный член:\", model_sgd.intercept_)\n",
        "print(\"R² (train):\", model_sgd.r2_score(X_train, y_train))\n",
        "print(\"R² (test):\", model_sgd.r2_score(X_test, y_test))\n",
        "print(\"RMSE (test):\", model_sgd.rmse(X_test, y_test))\n",
        "print(\"Последние 5 значений loss (SGD):\", history[\"loss_history\"][-5:])"
      ],
      "metadata": {
        "colab": {
          "base_uri": "https://localhost:8080/"
        },
        "id": "0oLDdzGRwJJk",
        "outputId": "e65407ae-a437-4b2a-9bcf-dc3445af2f56"
      },
      "execution_count": 80,
      "outputs": [
        {
          "output_type": "stream",
          "name": "stdout",
          "text": [
            "=== Аналитический метод ===\n",
            "Коэффициенты: [-0.35674095  2.03068315  0.15627626 -0.30552405  0.14489251]\n",
            "Свободный член: 9.946514423076923\n",
            "R² (train): 0.400112672601748\n",
            "R² (test): 0.4151137224276432\n",
            "RMSE (test): 2.594024009842039\n",
            "\n",
            "=== Градиентный спуск ===\n",
            "Коэффициенты: [ 0.07269892  1.60389459  0.15737572 -0.29983907  0.14616405]\n",
            "Свободный член: 9.946067512457775\n",
            "R² (train): 0.3962905789671691\n",
            "R² (test): 0.4110305295028198\n",
            "RMSE (test): 2.60306292831276\n",
            "\n",
            "=== SGD ===\n",
            "Коэффициенты: [-0.34885166  2.0287008   0.13045402 -0.30390407  0.17611595]\n",
            "Свободный член: 9.938034896325009\n",
            "R² (train): 0.3998566442619499\n",
            "R² (test): 0.41252757914803273\n",
            "RMSE (test): 2.599752575156342\n",
            "Последние 5 значений loss (SGD): [np.float64(5.99202103181397), np.float64(5.99202103181397), np.float64(5.99202103181397), np.float64(5.99202103181397), np.float64(5.99202103181397)]\n"
          ]
        }
      ]
    },
    {
      "cell_type": "markdown",
      "metadata": {
        "id": "5F8H7I4JWqMO"
      },
      "source": [
        "## 9. Итоги\n",
        "\n",
        "Что сделать?\n",
        "\n",
        "1. Сгрупировать все метрики, и выяснить, какой методо сработал лучше всего и почему?\n",
        "2. Ответить на вопросы:\n",
        "\n",
        "    1. Что такое регрессия и чем она отличается от классификации?\n",
        "    2. Какова целевая переменная в задаче регрессии?\n",
        "    3. Зачем нужно масштабирование признаков перед обучением линейной регрессии?\n",
        "    4. Что означает коэффициент признака в линейной регрессии?\n",
        "    5. Что такое MSE, RMSE, MAE и R², и чем они отличаются?\n",
        "    6. В чем разница между Ridge и Lasso регуляризацией?\n",
        "    7. Почему деревья решений и Random Forest не требуют стандартизации признаков?\n",
        "    8. Что такое мультиколлинеарность и почему она мешает линейной регрессии?\n",
        "    9. Как можно уменьшить влияние выбросов на линейную регрессию?\n",
        "    10. Какие гиперпараметры наиболее важны для Random Forest Regressor?\n",
        "    11. Какие гиперпараметры наиболее важны для XGBoost в задаче регрессии?\n",
        "    12. Что значит глубина дерева (max\\_depth) и как она влияет на модель?\n",
        "    13. Зачем нужен `learning_rate` в градиентном бустинге?\n",
        "    14. Как можно оценить важность признаков (feature importance) в линейной регрессии, случайном лесу и XGBoost?\n",
        "    15. Почему XGBoost часто работает лучше, чем Random Forest, на структурированных данных?\n",
        "    16. Что такое переобучение и как его можно выявить на графике обучения?\n",
        "    17. Как работает метод ансамблирования в Random Forest (bagging)?\n",
        "    18. В чем отличие бустинга от бэггинга?\n",
        "    19. Какие способы feature engineering можно применить к винному датасету (Wine Quality)?\n",
        "    20. Как использовать кросс-валидацию для подбора гиперпараметров моделей регрессии?\n"
      ]
    },
    {
      "cell_type": "markdown",
      "metadata": {
        "id": "1vPq85IPXeA3"
      },
      "source": [
        "#### 9.1. Группировка метрик"
      ]
    },
    {
      "cell_type": "code",
      "execution_count": null,
      "metadata": {
        "id": "e-oBQuOkXq7W"
      },
      "outputs": [],
      "source": [
        "# code here"
      ]
    },
    {
      "cell_type": "markdown",
      "metadata": {
        "id": "hCISA5SAXnie"
      },
      "source": [
        "#### 9.2. Ответы на вопросы"
      ]
    },
    {
      "cell_type": "markdown",
      "metadata": {
        "id": "WDdlS6IeXul9"
      },
      "source": [
        "Вопрос:\n",
        "\n",
        "Ответ:"
      ]
    }
  ],
  "metadata": {
    "colab": {
      "provenance": []
    },
    "kernelspec": {
      "display_name": "Python 3",
      "name": "python3"
    },
    "language_info": {
      "codemirror_mode": {
        "name": "ipython",
        "version": 3
      },
      "file_extension": ".py",
      "mimetype": "text/x-python",
      "name": "python",
      "nbconvert_exporter": "python",
      "pygments_lexer": "ipython3",
      "version": "3.13.5"
    }
  },
  "nbformat": 4,
  "nbformat_minor": 0
}